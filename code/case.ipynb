{
 "cells": [
  {
   "cell_type": "markdown",
   "metadata": {},
   "source": [
    "### Carregando as bibliotecas e configurações"
   ]
  },
  {
   "cell_type": "code",
   "execution_count": 1,
   "metadata": {},
   "outputs": [],
   "source": [
    "import pandas as pd\n",
    "import os\n",
    "from pathlib import Path\n",
    "import locale\n",
    "import seaborn as sns\n",
    "import matplotlib.pyplot as plt\n",
    "from pylab import rcParams"
   ]
  },
  {
   "cell_type": "code",
   "execution_count": 2,
   "metadata": {},
   "outputs": [
    {
     "data": {
      "text/plain": [
       "'pt_BR.UTF-8'"
      ]
     },
     "execution_count": 2,
     "metadata": {},
     "output_type": "execute_result"
    }
   ],
   "source": [
    "# Criando o caminho relativo da pasta com os arquivos JSON e capturando o nome dos arquivos\n",
    "data_dir_caminho = Path('..') / 'data'\n",
    "arquivos_json = [arq for arq in os.listdir(data_dir_caminho) if arq.endswith('.json')]\n",
    "\n",
    "# Configurar locale para usar ponto como separador de milhar nos gráficos\n",
    "locale.setlocale(locale.LC_ALL, 'pt_BR.UTF-8')"
   ]
  },
  {
   "cell_type": "code",
   "execution_count": 3,
   "metadata": {},
   "outputs": [
    {
     "name": "stdout",
     "output_type": "stream",
     "text": [
      "\u001b[1m\u001b[96mNotebook Color Scheme: \u001b[0m\n"
     ]
    },
    {
     "data": {
      "image/png": "[encoded data removed]",
      "text/plain": [
       "<Figure size 400x100 with 1 Axes>"
      ]
     },
     "metadata": {},
     "output_type": "display_data"
    }
   ],
   "source": [
    "# color scheme\n",
    "class clr:\n",
    "    S = '\\033[1m' + '\\033[96m'\n",
    "    E = '\\033[0m'\n",
    "    \n",
    "my_colors = ['#002768', '#1F6FF0', '#0eafaa', '#B5B0AE']\n",
    "sns.palplot(sns.color_palette(my_colors))\n",
    "print(clr.S + \"Notebook Color Scheme: \" + clr.E)"
   ]
  },
  {
   "cell_type": "markdown",
   "metadata": {},
   "source": [
    "Ao responder as perguntas do time de negócio, além das consultas, plotarei gráficos para uma abordagem visual intuitiva para análise de dados.\n",
    "\n",
    "Para evitar repetição no código, criei uma classe para plotar gráficos porque isso organiza o código em um único lugar, facilita a reutilização, centraliza ajustes de estilo e melhora a manutenção. Assim, evito repetição de código e deixo a estrutura mais limpa e clara para leitura.\n",
    "\n",
    "- Antes: Funções espalhadas, difíceis de achar e reutilizar.\n",
    "- Depois: Tudo fica em um lugar só (PlotUtils.pie_chart(), PlotUtils.box_plot(), etc.), facilitando a manutenção."
   ]
  },
  {
   "cell_type": "code",
   "execution_count": 4,
   "metadata": {},
   "outputs": [],
   "source": [
    "# Configurações globais de estilo\n",
    "def configure_plot_style():\n",
    "    \"\"\"Configura o estilo padrão para todos os gráficos\"\"\"\n",
    "    sns.set()\n",
    "    plt.style.use('seaborn-v0_8-notebook')\n",
    "    rcParams['figure.figsize'] = (6, 4)\n",
    "    rcParams['figure.titlesize'] = 14\n",
    "    rcParams['font.size'] = 15\n",
    "    \n",
    "    # Esquema de cores personalizado\n",
    "    global my_colors\n",
    "    my_colors = ['#002768', '#1F6FF0', '#0eafaa', '#B5B0AE']\n",
    "    sns.set_palette(my_colors)\n",
    "    \n",
    "    # Configuração para exibição no notebook\n",
    "    %matplotlib inline"
   ]
  },
  {
   "cell_type": "code",
   "execution_count": 5,
   "metadata": {},
   "outputs": [],
   "source": [
    "class PlotUtils:\n",
    "    \"\"\"Classe utilitária para criação de gráficos\"\"\"\n",
    "    \n",
    "    \n",
    "    @staticmethod\n",
    "    def pie_chart(data, x=None, y=None, title=None, explode=None, colors=None, \n",
    "                 autopct_format='both', startangle=90, textprops=None, title_fontsize=12,\n",
    "                 value_fontsize=12, figsize=(6, 4), locale_format=True):\n",
    "        \"\"\"\n",
    "        Cria um gráfico de pizza\n",
    "        \n",
    "        \"\"\"\n",
    "        # Extrair os dados conforme o tipo de entrada\n",
    "        if isinstance(data, pd.DataFrame):\n",
    "            labels = data[x] if x else data.index\n",
    "            values = data[y] if y else data.iloc[:, 0]\n",
    "        else:  # Series\n",
    "            labels = data.index\n",
    "            values = data.values\n",
    "        \n",
    "        total = sum(values)\n",
    "        porcentagens = [v/total * 100 for v in values]\n",
    "        \n",
    "        # Configurações padrão\n",
    "        if explode is None:\n",
    "            explode = [0.02] * len(values)\n",
    "        \n",
    "        if colors is None:\n",
    "            colors = ['#1F6FF0', '#0eafaa']\n",
    "        \n",
    "        if textprops is None:\n",
    "            textprops = {'fontsize': 10}\n",
    "        \n",
    "        # Criar figura\n",
    "        fig, ax = plt.subplots(figsize=figsize)\n",
    "        \n",
    "        # Função de formatação do autopct\n",
    "        def autopct_func(p):\n",
    "            if autopct_format == 'percent':\n",
    "                return f'{p:.1f}%'\n",
    "            elif autopct_format == 'value':\n",
    "                if locale_format:\n",
    "                    valor = p * total / 100\n",
    "                    valor_fmt = locale.format_string('%d', round(valor), grouping=True)\n",
    "                    return f\"R${valor_fmt}\"\n",
    "                return f\"R${p * total / 100:,.0f}\"\n",
    "            else:  # both\n",
    "                if locale_format:\n",
    "                    valor = p * total / 100\n",
    "                    valor_fmt = locale.format_string('%d', round(valor), grouping=True)\n",
    "                    return f\"{p:.1f}%\\n(R${valor_fmt})\"\n",
    "                return f\"{p:.1f}%\\n(R${p * total / 100:,.0f})\"\n",
    "        \n",
    "        # Plotar o gráfico\n",
    "        wedges, texts, autotexts = ax.pie(\n",
    "            values,\n",
    "            labels=labels,\n",
    "            autopct=autopct_func,\n",
    "            startangle=startangle,\n",
    "            colors=colors,\n",
    "            explode=explode,\n",
    "            textprops=textprops\n",
    "        )\n",
    "        \n",
    "        # Ajustar fontes dos valores\n",
    "        for autotext in autotexts:\n",
    "            autotext.set_fontsize(value_fontsize)\n",
    "        \n",
    "        # Adicionar título\n",
    "        if title:\n",
    "            ax.set_title(title, pad=20, fontsize=title_fontsize)\n",
    "        \n",
    "        plt.tight_layout()\n",
    "        plt.show()\n",
    "    \n",
    "\n",
    "\n",
    "    \n",
    "    @staticmethod\n",
    "    def box_plot(data, x, y, title, xlabel=None, ylabel=None, rotation=0):\n",
    "        \"\"\"\n",
    "        Cria um boxplot\n",
    "\n",
    "        \"\"\"\n",
    "        sns.boxplot(data=data, x=x, y=y, color=my_colors[2])\n",
    "        plt.title(title, fontweight='bold')\n",
    "        \n",
    "        if xlabel:\n",
    "            plt.xlabel(xlabel)\n",
    "        if ylabel:\n",
    "            plt.ylabel(ylabel)\n",
    "        plt.xticks(rotation=rotation)\n",
    "\n",
    "        plt.show()\n",
    "\n",
    "\n",
    "\n",
    "\n",
    "    @staticmethod\n",
    "    def bar_plot(data, x, y=None, title=None, xlabel=None, ylabel=None, \n",
    "                 rotation=45, order=None, color_index=2, figsize=(6, 4)):\n",
    "        \"\"\"\n",
    "        Cria um gráfico de barras verticais ordenado\n",
    "        \n",
    "        \"\"\"\n",
    "        plt.figure(figsize=figsize)\n",
    "        \n",
    "        if y:\n",
    "            sns.barplot(data=data, x=x, y=y, order=order, color=my_colors[color_index])\n",
    "        else:\n",
    "            sns.countplot(data=data, x=x, order=order, color=my_colors[color_index])\n",
    "        \n",
    "        plt.title(title, fontweight='bold')\n",
    "        plt.xlabel(xlabel if xlabel else x)\n",
    "        plt.ylabel(ylabel if ylabel else 'Contagem' if not y else y)\n",
    "        plt.xticks(rotation=rotation)\n",
    "        plt.tight_layout()\n",
    "        plt.show()\n",
    "    \n",
    "    \n",
    "    \n",
    "    \n",
    "    @staticmethod\n",
    "    def histogram(data, x, title=None, xlabel=None, ylabel='Contagem', \n",
    "                  bins='auto', color_index=0, shrink=0.8, rotation=0):\n",
    "        \"\"\"\n",
    "        Cria um histograma\n",
    "        \n",
    "        \"\"\"\n",
    "        sns.histplot(data=data, x=x, bins=bins, shrink=shrink, \n",
    "                    color=my_colors[color_index])\n",
    "        plt.title(title if title else f'Distribuição de {x}', fontweight='bold')\n",
    "        plt.xlabel(xlabel if xlabel else x)\n",
    "        plt.ylabel(ylabel)\n",
    "        plt.xticks(rotation=rotation)\n",
    "        plt.tight_layout()\n",
    "        plt.show()\n",
    "    \n",
    "    \n",
    "    \n",
    "    \n",
    "    @staticmethod\n",
    "    def line_plot(data, x, y, title=None, xlabel=None, ylabel=None, \n",
    "                  color_index=0, marker='o', linewidth=2.5, grid=True,\n",
    "                  sort_by_y=False, rotation=0, fontsize=10):\n",
    "        \"\"\"\n",
    "        Cria um gráfico de linhas\n",
    "\n",
    "        \"\"\"\n",
    "        # Ordena os dados se necessário\n",
    "        data = data.sort_values(by=y, ascending=False) if sort_by_y else data\n",
    "\n",
    "        sns.lineplot(data=data, x=x, y=y, marker=marker, \n",
    "                    color=my_colors[color_index], linewidth=linewidth)\n",
    "        \n",
    "        plt.title(title if title else f'{y} por {x}', fontweight='bold')\n",
    "        plt.xlabel(xlabel if xlabel else x)\n",
    "        plt.ylabel(ylabel if ylabel else y)\n",
    "        plt.xticks(rotation=rotation, fontsize=fontsize)\n",
    "        \n",
    "        if grid:\n",
    "            plt.grid(axis='y', linestyle='--', alpha=0.3)\n",
    "        \n",
    "        plt.tight_layout()\n",
    "        plt.show()\n",
    "    \n",
    "    \n",
    "    \n",
    "    \n",
    "    @staticmethod\n",
    "    def point_plot(data, x, y, title=None, xlabel=None, ylabel=None, \n",
    "                color_index=0, marker='o', linewidth=2.5, grid=True,\n",
    "                sort_by_y=False, rotation=0):\n",
    "        \"\"\"\n",
    "        Cria um gráfico de pontos\n",
    "        \"\"\"\n",
    "        # Ordena os dados se necessário\n",
    "        data = data.sort_values(by=y, ascending=False) if sort_by_y else data\n",
    "      \n",
    "        # Usar sns.pointplot ou plt.plot para manter a ordem\n",
    "        sns.pointplot(data=data, x=x, y=y, order=data[x] if sort_by_y else None,\n",
    "                    color=my_colors[color_index], linestyles='-', markers=marker)\n",
    "        \n",
    "        plt.title(title if title else f'{y} por {x}', fontweight='bold')\n",
    "        plt.xlabel(xlabel if xlabel else x)\n",
    "        plt.ylabel(ylabel if ylabel else y)\n",
    "        plt.xticks(rotation=rotation)\n",
    "        \n",
    "        if grid:\n",
    "            plt.grid(axis='y', linestyle='--', alpha=0.3)\n",
    "        \n",
    "        plt.tight_layout()\n",
    "        plt.show()"
   ]
  },
  {
   "cell_type": "markdown",
   "metadata": {},
   "source": [
    "### Carregando os datasets"
   ]
  },
  {
   "cell_type": "code",
   "execution_count": 6,
   "metadata": {},
   "outputs": [],
   "source": [
    "# Carrega e concatena (parâmetro lines=True para evitar o aviso de Warning - lê cada linha como um objeto JSON separado)\n",
    "dfs = []\n",
    "for arquivo in arquivos_json:\n",
    "    caminho = os.path.join(data_dir_caminho, arquivo)\n",
    "    df = pd.read_json(caminho, lines=True)\n",
    "    dfs.append(df)\n",
    "\n",
    "df_final = pd.concat(dfs, ignore_index=True)"
   ]
  },
  {
   "cell_type": "code",
   "execution_count": 7,
   "metadata": {},
   "outputs": [
    {
     "name": "stdout",
     "output_type": "stream",
     "text": [
      "O dataset tem 550068 observações (compras realizadas) e 7 colunas: ['usuario', 'produto', 'genero', 'idade', 'produto_categoria', 'valor', 'estado_civil']\n"
     ]
    },
    {
     "data": {
      "application/vnd.microsoft.datawrangler.viewer.v0+json": {
       "columns": [
        {
         "name": "index",
         "rawType": "int64",
         "type": "integer"
        },
        {
         "name": "usuario",
         "rawType": "int64",
         "type": "integer"
        },
        {
         "name": "produto",
         "rawType": "object",
         "type": "string"
        },
        {
         "name": "genero",
         "rawType": "object",
         "type": "string"
        },
        {
         "name": "idade",
         "rawType": "object",
         "type": "string"
        },
        {
         "name": "produto_categoria",
         "rawType": "int64",
         "type": "integer"
        },
        {
         "name": "valor",
         "rawType": "int64",
         "type": "integer"
        },
        {
         "name": "estado_civil",
         "rawType": "int64",
         "type": "integer"
        }
       ],
       "conversionMethod": "pd.DataFrame",
       "ref": "5d816f82-b2b2-4930-8f90-984993011dd8",
       "rows": [
        [
         "0",
         "1000001",
         "P00069042",
         "F",
         "0-17",
         "3",
         "8370",
         "0"
        ],
        [
         "1",
         "1000001",
         "P00248942",
         "F",
         "0-17",
         "1",
         "15200",
         "0"
        ],
        [
         "2",
         "1000001",
         "P00087842",
         "F",
         "0-17",
         "12",
         "1422",
         "0"
        ],
        [
         "3",
         "1000001",
         "P00085442",
         "F",
         "0-17",
         "12",
         "1057",
         "0"
        ],
        [
         "4",
         "1000002",
         "P00285442",
         "M",
         "55+",
         "8",
         "7969",
         "0"
        ],
        [
         "5",
         "1000003",
         "P00193542",
         "M",
         "26-35",
         "1",
         "15227",
         "0"
        ],
        [
         "6",
         "1000004",
         "P00184942",
         "M",
         "46-50",
         "1",
         "19215",
         "1"
        ],
        [
         "7",
         "1000004",
         "P00346142",
         "M",
         "46-50",
         "1",
         "15854",
         "1"
        ],
        [
         "8",
         "1000004",
         "P0097242",
         "M",
         "46-50",
         "1",
         "15686",
         "1"
        ],
        [
         "9",
         "1000005",
         "P00274942",
         "M",
         "26-35",
         "8",
         "7871",
         "1"
        ],
        [
         "10",
         "1000005",
         "P00251242",
         "M",
         "26-35",
         "5",
         "5254",
         "1"
        ],
        [
         "11",
         "1000005",
         "P00014542",
         "M",
         "26-35",
         "8",
         "3957",
         "1"
        ],
        [
         "12",
         "1000005",
         "P00031342",
         "M",
         "26-35",
         "8",
         "6073",
         "1"
        ],
        [
         "13",
         "1000005",
         "P00145042",
         "M",
         "26-35",
         "1",
         "15665",
         "1"
        ],
        [
         "14",
         "1000006",
         "P00231342",
         "F",
         "51-55",
         "5",
         "5378",
         "0"
        ],
        [
         "15",
         "1000006",
         "P00190242",
         "F",
         "51-55",
         "4",
         "2079",
         "0"
        ],
        [
         "16",
         "1000006",
         "P0096642",
         "F",
         "51-55",
         "2",
         "13055",
         "0"
        ],
        [
         "17",
         "1000006",
         "P00058442",
         "F",
         "51-55",
         "5",
         "8851",
         "0"
        ],
        [
         "18",
         "1000007",
         "P00036842",
         "M",
         "36-45",
         "1",
         "11788",
         "1"
        ],
        [
         "19",
         "1000008",
         "P00249542",
         "M",
         "26-35",
         "1",
         "19614",
         "1"
        ],
        [
         "20",
         "1000008",
         "P00220442",
         "M",
         "26-35",
         "5",
         "8584",
         "1"
        ],
        [
         "21",
         "1000008",
         "P00156442",
         "M",
         "26-35",
         "8",
         "9872",
         "1"
        ],
        [
         "22",
         "1000008",
         "P00213742",
         "M",
         "26-35",
         "8",
         "9743",
         "1"
        ],
        [
         "23",
         "1000008",
         "P00214442",
         "M",
         "26-35",
         "8",
         "5982",
         "1"
        ],
        [
         "24",
         "1000008",
         "P00303442",
         "M",
         "26-35",
         "1",
         "11927",
         "1"
        ],
        [
         "25",
         "1000009",
         "P00135742",
         "M",
         "26-35",
         "6",
         "16662",
         "0"
        ],
        [
         "26",
         "1000009",
         "P00039942",
         "M",
         "26-35",
         "8",
         "5887",
         "0"
        ],
        [
         "27",
         "1000009",
         "P00161442",
         "M",
         "26-35",
         "5",
         "6973",
         "0"
        ],
        [
         "28",
         "1000009",
         "P00078742",
         "M",
         "26-35",
         "5",
         "5391",
         "0"
        ],
        [
         "29",
         "1000010",
         "P00085942",
         "F",
         "36-45",
         "2",
         "16352",
         "1"
        ],
        [
         "30",
         "1000010",
         "P00118742",
         "F",
         "36-45",
         "5",
         "8886",
         "1"
        ],
        [
         "31",
         "1000010",
         "P00297942",
         "F",
         "36-45",
         "8",
         "5875",
         "1"
        ],
        [
         "32",
         "1000010",
         "P00266842",
         "F",
         "36-45",
         "5",
         "8854",
         "1"
        ],
        [
         "33",
         "1000010",
         "P00058342",
         "F",
         "36-45",
         "3",
         "10946",
         "1"
        ],
        [
         "34",
         "1000010",
         "P00032442",
         "F",
         "36-45",
         "5",
         "5152",
         "1"
        ],
        [
         "35",
         "1000010",
         "P00105942",
         "F",
         "36-45",
         "5",
         "7089",
         "1"
        ],
        [
         "36",
         "1000010",
         "P00182642",
         "F",
         "36-45",
         "2",
         "12909",
         "1"
        ],
        [
         "37",
         "1000010",
         "P00186942",
         "F",
         "36-45",
         "5",
         "8770",
         "1"
        ],
        [
         "38",
         "1000010",
         "P00155442",
         "F",
         "36-45",
         "1",
         "15212",
         "1"
        ],
        [
         "39",
         "1000010",
         "P00221342",
         "F",
         "36-45",
         "1",
         "15705",
         "1"
        ],
        [
         "40",
         "1000010",
         "P00087242",
         "F",
         "36-45",
         "14",
         "7947",
         "1"
        ],
        [
         "41",
         "1000010",
         "P00111142",
         "F",
         "36-45",
         "1",
         "18963",
         "1"
        ],
        [
         "42",
         "1000010",
         "P00259342",
         "F",
         "36-45",
         "5",
         "8718",
         "1"
        ],
        [
         "43",
         "1000010",
         "P0094542",
         "F",
         "36-45",
         "2",
         "16406",
         "1"
        ],
        [
         "44",
         "1000010",
         "P00148642",
         "F",
         "36-45",
         "6",
         "12642",
         "1"
        ],
        [
         "45",
         "1000010",
         "P00312142",
         "F",
         "36-45",
         "8",
         "10007",
         "1"
        ],
        [
         "46",
         "1000010",
         "P00113242",
         "F",
         "36-45",
         "1",
         "11562",
         "1"
        ],
        [
         "47",
         "1000011",
         "P00192642",
         "F",
         "26-35",
         "8",
         "6171",
         "0"
        ],
        [
         "48",
         "1000011",
         "P00110842",
         "F",
         "26-35",
         "1",
         "19327",
         "0"
        ],
        [
         "49",
         "1000011",
         "P00189642",
         "F",
         "26-35",
         "8",
         "8027",
         "0"
        ]
       ],
       "shape": {
        "columns": 7,
        "rows": 550068
       }
      },
      "text/html": [
       "<div>\n",
       "<style scoped>\n",
       "    .dataframe tbody tr th:only-of-type {\n",
       "        vertical-align: middle;\n",
       "    }\n",
       "\n",
       "    .dataframe tbody tr th {\n",
       "        vertical-align: top;\n",
       "    }\n",
       "\n",
       "    .dataframe thead th {\n",
       "        text-align: right;\n",
       "    }\n",
       "</style>\n",
       "<table border=\"1\" class=\"dataframe\">\n",
       "  <thead>\n",
       "    <tr style=\"text-align: right;\">\n",
       "      <th></th>\n",
       "      <th>usuario</th>\n",
       "      <th>produto</th>\n",
       "      <th>genero</th>\n",
       "      <th>idade</th>\n",
       "      <th>produto_categoria</th>\n",
       "      <th>valor</th>\n",
       "      <th>estado_civil</th>\n",
       "    </tr>\n",
       "  </thead>\n",
       "  <tbody>\n",
       "    <tr>\n",
       "      <th>0</th>\n",
       "      <td>1000001</td>\n",
       "      <td>P00069042</td>\n",
       "      <td>F</td>\n",
       "      <td>0-17</td>\n",
       "      <td>3</td>\n",
       "      <td>8370</td>\n",
       "      <td>0</td>\n",
       "    </tr>\n",
       "    <tr>\n",
       "      <th>1</th>\n",
       "      <td>1000001</td>\n",
       "      <td>P00248942</td>\n",
       "      <td>F</td>\n",
       "      <td>0-17</td>\n",
       "      <td>1</td>\n",
       "      <td>15200</td>\n",
       "      <td>0</td>\n",
       "    </tr>\n",
       "    <tr>\n",
       "      <th>2</th>\n",
       "      <td>1000001</td>\n",
       "      <td>P00087842</td>\n",
       "      <td>F</td>\n",
       "      <td>0-17</td>\n",
       "      <td>12</td>\n",
       "      <td>1422</td>\n",
       "      <td>0</td>\n",
       "    </tr>\n",
       "    <tr>\n",
       "      <th>3</th>\n",
       "      <td>1000001</td>\n",
       "      <td>P00085442</td>\n",
       "      <td>F</td>\n",
       "      <td>0-17</td>\n",
       "      <td>12</td>\n",
       "      <td>1057</td>\n",
       "      <td>0</td>\n",
       "    </tr>\n",
       "    <tr>\n",
       "      <th>4</th>\n",
       "      <td>1000002</td>\n",
       "      <td>P00285442</td>\n",
       "      <td>M</td>\n",
       "      <td>55+</td>\n",
       "      <td>8</td>\n",
       "      <td>7969</td>\n",
       "      <td>0</td>\n",
       "    </tr>\n",
       "    <tr>\n",
       "      <th>...</th>\n",
       "      <td>...</td>\n",
       "      <td>...</td>\n",
       "      <td>...</td>\n",
       "      <td>...</td>\n",
       "      <td>...</td>\n",
       "      <td>...</td>\n",
       "      <td>...</td>\n",
       "    </tr>\n",
       "    <tr>\n",
       "      <th>550063</th>\n",
       "      <td>1006033</td>\n",
       "      <td>P00372445</td>\n",
       "      <td>M</td>\n",
       "      <td>51-55</td>\n",
       "      <td>20</td>\n",
       "      <td>368</td>\n",
       "      <td>1</td>\n",
       "    </tr>\n",
       "    <tr>\n",
       "      <th>550064</th>\n",
       "      <td>1006035</td>\n",
       "      <td>P00375436</td>\n",
       "      <td>F</td>\n",
       "      <td>26-35</td>\n",
       "      <td>20</td>\n",
       "      <td>371</td>\n",
       "      <td>0</td>\n",
       "    </tr>\n",
       "    <tr>\n",
       "      <th>550065</th>\n",
       "      <td>1006036</td>\n",
       "      <td>P00375436</td>\n",
       "      <td>F</td>\n",
       "      <td>26-35</td>\n",
       "      <td>20</td>\n",
       "      <td>137</td>\n",
       "      <td>1</td>\n",
       "    </tr>\n",
       "    <tr>\n",
       "      <th>550066</th>\n",
       "      <td>1006038</td>\n",
       "      <td>P00375436</td>\n",
       "      <td>F</td>\n",
       "      <td>55+</td>\n",
       "      <td>20</td>\n",
       "      <td>365</td>\n",
       "      <td>0</td>\n",
       "    </tr>\n",
       "    <tr>\n",
       "      <th>550067</th>\n",
       "      <td>1006039</td>\n",
       "      <td>P00371644</td>\n",
       "      <td>F</td>\n",
       "      <td>46-50</td>\n",
       "      <td>20</td>\n",
       "      <td>490</td>\n",
       "      <td>1</td>\n",
       "    </tr>\n",
       "  </tbody>\n",
       "</table>\n",
       "<p>550068 rows × 7 columns</p>\n",
       "</div>"
      ],
      "text/plain": [
       "        usuario    produto genero  idade  produto_categoria  valor  \\\n",
       "0       1000001  P00069042      F   0-17                  3   8370   \n",
       "1       1000001  P00248942      F   0-17                  1  15200   \n",
       "2       1000001  P00087842      F   0-17                 12   1422   \n",
       "3       1000001  P00085442      F   0-17                 12   1057   \n",
       "4       1000002  P00285442      M    55+                  8   7969   \n",
       "...         ...        ...    ...    ...                ...    ...   \n",
       "550063  1006033  P00372445      M  51-55                 20    368   \n",
       "550064  1006035  P00375436      F  26-35                 20    371   \n",
       "550065  1006036  P00375436      F  26-35                 20    137   \n",
       "550066  1006038  P00375436      F    55+                 20    365   \n",
       "550067  1006039  P00371644      F  46-50                 20    490   \n",
       "\n",
       "        estado_civil  \n",
       "0                  0  \n",
       "1                  0  \n",
       "2                  0  \n",
       "3                  0  \n",
       "4                  0  \n",
       "...              ...  \n",
       "550063             1  \n",
       "550064             0  \n",
       "550065             1  \n",
       "550066             0  \n",
       "550067             1  \n",
       "\n",
       "[550068 rows x 7 columns]"
      ]
     },
     "execution_count": 7,
     "metadata": {},
     "output_type": "execute_result"
    }
   ],
   "source": [
    "print(\"O dataset tem \" + str(df_final.shape[0]) + \" observações (compras realizadas) e \" + str(df_final.shape[1]) + \" colunas: \" + str([col for col in df_final.columns]))\n",
    "df_final"
   ]
  },
  {
   "cell_type": "code",
   "execution_count": 8,
   "metadata": {},
   "outputs": [],
   "source": [
    "# trocando o nome da variável para melhorar a legibilidade do código\n",
    "df = df_final.copy()"
   ]
  },
  {
   "cell_type": "code",
   "execution_count": 9,
   "metadata": {},
   "outputs": [],
   "source": [
    "## Fazendo algumas transformações necessárias\n",
    "# Converter a coluna usuario para string\n",
    "df['usuario'] = df['usuario'].astype('object')\n",
    "\n",
    "# Transformações de valores dentro da coluna estado_civil\n",
    "map_estado_civil = {0: \"Solteiro\", 1: \"Casado\"}\n",
    "df['estado_civil'] = df['estado_civil'].map(map_estado_civil)\n",
    "df['estado_civil'] = df['estado_civil'].astype('category')\n",
    "\n",
    "# Transformações de valores dentro da coluna genero\n",
    "map_genero = {\"M\": \"Masculino\", \"F\": \"Feminino\"}\n",
    "df['genero'] = df['genero'].map(map_genero)\n",
    "df['genero'] = df['genero'].astype('category')\n",
    "\n",
    "# Definir a coluna idade como categórica e com ordem para faixas etárias\n",
    "ordem_idades = ['0-17', '18-25', '26-35', '36-45', '46-50', '51-55', '55+']\n",
    "df['idade'] = pd.Categorical(df['idade'], categories=ordem_idades, ordered=True)\n",
    "\n",
    "# Definir a coluna produto_categoria como categorica\n",
    "df['produto_categoria'] = df['produto_categoria'].astype('category')"
   ]
  },
  {
   "cell_type": "markdown",
   "metadata": {},
   "source": [
    "## Etapa 1 - Consultas do time de negócio\n",
    "Além do código desenvolvido para as consultas, foi disponibilizado uma abordagem visual intuitiva para análise de dados. As casas decimais foram omitidas para facilitar a compreensão dos números.\n"
   ]
  },
  {
   "cell_type": "markdown",
   "metadata": {},
   "source": [
    "### 1 - Qual o ticket médio das vendas por idade ordenado por idade?"
   ]
  },
  {
   "cell_type": "code",
   "execution_count": 10,
   "metadata": {},
   "outputs": [
    {
     "data": {
      "application/vnd.microsoft.datawrangler.viewer.v0+json": {
       "columns": [
        {
         "name": "index",
         "rawType": "int64",
         "type": "integer"
        },
        {
         "name": "idade",
         "rawType": "category",
         "type": "unknown"
        },
        {
         "name": "ticket_medio",
         "rawType": "int64",
         "type": "integer"
        }
       ],
       "conversionMethod": "pd.DataFrame",
       "ref": "581d404c-806a-4100-8a2d-7969ec96df75",
       "rows": [
        [
         "0",
         "0-17",
         "8933"
        ],
        [
         "1",
         "18-25",
         "9169"
        ],
        [
         "2",
         "26-35",
         "9252"
        ],
        [
         "3",
         "36-45",
         "9331"
        ],
        [
         "4",
         "46-50",
         "9208"
        ],
        [
         "5",
         "51-55",
         "9534"
        ],
        [
         "6",
         "55+",
         "9336"
        ]
       ],
       "shape": {
        "columns": 2,
        "rows": 7
       }
      },
      "text/html": [
       "<div>\n",
       "<style scoped>\n",
       "    .dataframe tbody tr th:only-of-type {\n",
       "        vertical-align: middle;\n",
       "    }\n",
       "\n",
       "    .dataframe tbody tr th {\n",
       "        vertical-align: top;\n",
       "    }\n",
       "\n",
       "    .dataframe thead th {\n",
       "        text-align: right;\n",
       "    }\n",
       "</style>\n",
       "<table border=\"1\" class=\"dataframe\">\n",
       "  <thead>\n",
       "    <tr style=\"text-align: right;\">\n",
       "      <th></th>\n",
       "      <th>idade</th>\n",
       "      <th>ticket_medio</th>\n",
       "    </tr>\n",
       "  </thead>\n",
       "  <tbody>\n",
       "    <tr>\n",
       "      <th>0</th>\n",
       "      <td>0-17</td>\n",
       "      <td>8933</td>\n",
       "    </tr>\n",
       "    <tr>\n",
       "      <th>1</th>\n",
       "      <td>18-25</td>\n",
       "      <td>9169</td>\n",
       "    </tr>\n",
       "    <tr>\n",
       "      <th>2</th>\n",
       "      <td>26-35</td>\n",
       "      <td>9252</td>\n",
       "    </tr>\n",
       "    <tr>\n",
       "      <th>3</th>\n",
       "      <td>36-45</td>\n",
       "      <td>9331</td>\n",
       "    </tr>\n",
       "    <tr>\n",
       "      <th>4</th>\n",
       "      <td>46-50</td>\n",
       "      <td>9208</td>\n",
       "    </tr>\n",
       "    <tr>\n",
       "      <th>5</th>\n",
       "      <td>51-55</td>\n",
       "      <td>9534</td>\n",
       "    </tr>\n",
       "    <tr>\n",
       "      <th>6</th>\n",
       "      <td>55+</td>\n",
       "      <td>9336</td>\n",
       "    </tr>\n",
       "  </tbody>\n",
       "</table>\n",
       "</div>"
      ],
      "text/plain": [
       "   idade  ticket_medio\n",
       "0   0-17          8933\n",
       "1  18-25          9169\n",
       "2  26-35          9252\n",
       "3  36-45          9331\n",
       "4  46-50          9208\n",
       "5  51-55          9534\n",
       "6    55+          9336"
      ]
     },
     "execution_count": 10,
     "metadata": {},
     "output_type": "execute_result"
    }
   ],
   "source": [
    "ticket_medio_por_idade = (\n",
    "    df\n",
    "    .groupby('idade', observed=False)['valor'] # idade como categorica\n",
    "    .mean()\n",
    "    .astype(int)\n",
    "    .reset_index()\n",
    "    .sort_values('idade')\n",
    "    .rename(columns={'valor': 'ticket_medio'})\n",
    ")\n",
    "\n",
    "ticket_medio_por_idade"
   ]
  },
  {
   "cell_type": "code",
   "execution_count": 11,
   "metadata": {},
   "outputs": [
    {
     "data": {
      "image/png": "[encoded data removed]",
      "text/plain": [
       "<Figure size 640x480 with 1 Axes>"
      ]
     },
     "metadata": {},
     "output_type": "display_data"
    }
   ],
   "source": [
    "# Gráfico de linha\n",
    "PlotUtils.line_plot(\n",
    "    data=ticket_medio_por_idade,\n",
    "    x='idade',\n",
    "    y='ticket_medio',\n",
    "    title='Ticket Médio por Idade',\n",
    "    xlabel='Idade',\n",
    "    ylabel='Ticket Médio',\n",
    ")"
   ]
  },
  {
   "cell_type": "markdown",
   "metadata": {},
   "source": [
    "\n",
    "### 2 - Qual o total de vendas por idade ordenado pelo valor total de vendas?"
   ]
  },
  {
   "cell_type": "code",
   "execution_count": 12,
   "metadata": {},
   "outputs": [
    {
     "data": {
      "application/vnd.microsoft.datawrangler.viewer.v0+json": {
       "columns": [
        {
         "name": "index",
         "rawType": "int64",
         "type": "integer"
        },
        {
         "name": "idade",
         "rawType": "category",
         "type": "unknown"
        },
        {
         "name": "total_vendas",
         "rawType": "int64",
         "type": "integer"
        },
        {
         "name": "valor_total_bilhoes",
         "rawType": "float64",
         "type": "float"
        }
       ],
       "conversionMethod": "pd.DataFrame",
       "ref": "9e907895-3138-4f15-ad23-6c7429f25632",
       "rows": [
        [
         "2",
         "26-35",
         "2031770578",
         "2.031770578"
        ],
        [
         "3",
         "36-45",
         "1026569884",
         "1.026569884"
        ],
        [
         "1",
         "18-25",
         "913848675",
         "0.913848675"
        ],
        [
         "4",
         "46-50",
         "420843403",
         "0.420843403"
        ],
        [
         "5",
         "51-55",
         "367099644",
         "0.367099644"
        ],
        [
         "6",
         "55+",
         "200767375",
         "0.200767375"
        ],
        [
         "0",
         "0-17",
         "134913183",
         "0.134913183"
        ]
       ],
       "shape": {
        "columns": 3,
        "rows": 7
       }
      },
      "text/html": [
       "<div>\n",
       "<style scoped>\n",
       "    .dataframe tbody tr th:only-of-type {\n",
       "        vertical-align: middle;\n",
       "    }\n",
       "\n",
       "    .dataframe tbody tr th {\n",
       "        vertical-align: top;\n",
       "    }\n",
       "\n",
       "    .dataframe thead th {\n",
       "        text-align: right;\n",
       "    }\n",
       "</style>\n",
       "<table border=\"1\" class=\"dataframe\">\n",
       "  <thead>\n",
       "    <tr style=\"text-align: right;\">\n",
       "      <th></th>\n",
       "      <th>idade</th>\n",
       "      <th>total_vendas</th>\n",
       "      <th>valor_total_bilhoes</th>\n",
       "    </tr>\n",
       "  </thead>\n",
       "  <tbody>\n",
       "    <tr>\n",
       "      <th>2</th>\n",
       "      <td>26-35</td>\n",
       "      <td>2031770578</td>\n",
       "      <td>2.031771</td>\n",
       "    </tr>\n",
       "    <tr>\n",
       "      <th>3</th>\n",
       "      <td>36-45</td>\n",
       "      <td>1026569884</td>\n",
       "      <td>1.026570</td>\n",
       "    </tr>\n",
       "    <tr>\n",
       "      <th>1</th>\n",
       "      <td>18-25</td>\n",
       "      <td>913848675</td>\n",
       "      <td>0.913849</td>\n",
       "    </tr>\n",
       "    <tr>\n",
       "      <th>4</th>\n",
       "      <td>46-50</td>\n",
       "      <td>420843403</td>\n",
       "      <td>0.420843</td>\n",
       "    </tr>\n",
       "    <tr>\n",
       "      <th>5</th>\n",
       "      <td>51-55</td>\n",
       "      <td>367099644</td>\n",
       "      <td>0.367100</td>\n",
       "    </tr>\n",
       "    <tr>\n",
       "      <th>6</th>\n",
       "      <td>55+</td>\n",
       "      <td>200767375</td>\n",
       "      <td>0.200767</td>\n",
       "    </tr>\n",
       "    <tr>\n",
       "      <th>0</th>\n",
       "      <td>0-17</td>\n",
       "      <td>134913183</td>\n",
       "      <td>0.134913</td>\n",
       "    </tr>\n",
       "  </tbody>\n",
       "</table>\n",
       "</div>"
      ],
      "text/plain": [
       "   idade  total_vendas  valor_total_bilhoes\n",
       "2  26-35    2031770578             2.031771\n",
       "3  36-45    1026569884             1.026570\n",
       "1  18-25     913848675             0.913849\n",
       "4  46-50     420843403             0.420843\n",
       "5  51-55     367099644             0.367100\n",
       "6    55+     200767375             0.200767\n",
       "0   0-17     134913183             0.134913"
      ]
     },
     "execution_count": 12,
     "metadata": {},
     "output_type": "execute_result"
    }
   ],
   "source": [
    "total_vendas_por_idade = (\n",
    "    df.groupby('idade', observed=True)['valor']\n",
    "    .sum()\n",
    "    .reset_index()\n",
    "    .rename(columns={'valor': 'total_vendas'})\n",
    "    .sort_values('total_vendas', ascending=False)\n",
    ")\n",
    "\n",
    "total_vendas_por_idade['valor_total_bilhoes'] = total_vendas_por_idade['total_vendas'] / 1_000_000_000\n",
    "total_vendas_por_idade"
   ]
  },
  {
   "cell_type": "code",
   "execution_count": 13,
   "metadata": {},
   "outputs": [
    {
     "data": {
      "image/png": "[encoded data removed]",
      "text/plain": [
       "<Figure size 640x480 with 1 Axes>"
      ]
     },
     "metadata": {},
     "output_type": "display_data"
    }
   ],
   "source": [
    "# Gráfico de linha\n",
    "PlotUtils.line_plot(\n",
    "    data=total_vendas_por_idade,\n",
    "    x='idade',\n",
    "    y='valor_total_bilhoes',\n",
    "    title='Total de vendas por idade (em bilhões)',\n",
    "    xlabel='Idade',\n",
    "    ylabel='Valor total em vendas (em bilhões de R$)'\n",
    ")"
   ]
  },
  {
   "cell_type": "markdown",
   "metadata": {},
   "source": [
    "### 3 - Liste a quantidade dos 10 produtos mais vendidos "
   ]
  },
  {
   "cell_type": "code",
   "execution_count": 14,
   "metadata": {},
   "outputs": [
    {
     "data": {
      "application/vnd.microsoft.datawrangler.viewer.v0+json": {
       "columns": [
        {
         "name": "index",
         "rawType": "int64",
         "type": "integer"
        },
        {
         "name": "produto",
         "rawType": "object",
         "type": "string"
        },
        {
         "name": "quantidade_vendida",
         "rawType": "int64",
         "type": "integer"
        }
       ],
       "conversionMethod": "pd.DataFrame",
       "ref": "51a3d9d2-d175-42b1-97e5-b07ae9447fdf",
       "rows": [
        [
         "0",
         "P00265242",
         "1880"
        ],
        [
         "1",
         "P00025442",
         "1615"
        ],
        [
         "2",
         "P00110742",
         "1612"
        ],
        [
         "3",
         "P00112142",
         "1562"
        ],
        [
         "4",
         "P00057642",
         "1470"
        ],
        [
         "5",
         "P00184942",
         "1440"
        ],
        [
         "6",
         "P00046742",
         "1438"
        ],
        [
         "7",
         "P00058042",
         "1422"
        ],
        [
         "8",
         "P00059442",
         "1406"
        ],
        [
         "9",
         "P00145042",
         "1406"
        ]
       ],
       "shape": {
        "columns": 2,
        "rows": 10
       }
      },
      "text/html": [
       "<div>\n",
       "<style scoped>\n",
       "    .dataframe tbody tr th:only-of-type {\n",
       "        vertical-align: middle;\n",
       "    }\n",
       "\n",
       "    .dataframe tbody tr th {\n",
       "        vertical-align: top;\n",
       "    }\n",
       "\n",
       "    .dataframe thead th {\n",
       "        text-align: right;\n",
       "    }\n",
       "</style>\n",
       "<table border=\"1\" class=\"dataframe\">\n",
       "  <thead>\n",
       "    <tr style=\"text-align: right;\">\n",
       "      <th></th>\n",
       "      <th>produto</th>\n",
       "      <th>quantidade_vendida</th>\n",
       "    </tr>\n",
       "  </thead>\n",
       "  <tbody>\n",
       "    <tr>\n",
       "      <th>0</th>\n",
       "      <td>P00265242</td>\n",
       "      <td>1880</td>\n",
       "    </tr>\n",
       "    <tr>\n",
       "      <th>1</th>\n",
       "      <td>P00025442</td>\n",
       "      <td>1615</td>\n",
       "    </tr>\n",
       "    <tr>\n",
       "      <th>2</th>\n",
       "      <td>P00110742</td>\n",
       "      <td>1612</td>\n",
       "    </tr>\n",
       "    <tr>\n",
       "      <th>3</th>\n",
       "      <td>P00112142</td>\n",
       "      <td>1562</td>\n",
       "    </tr>\n",
       "    <tr>\n",
       "      <th>4</th>\n",
       "      <td>P00057642</td>\n",
       "      <td>1470</td>\n",
       "    </tr>\n",
       "    <tr>\n",
       "      <th>5</th>\n",
       "      <td>P00184942</td>\n",
       "      <td>1440</td>\n",
       "    </tr>\n",
       "    <tr>\n",
       "      <th>6</th>\n",
       "      <td>P00046742</td>\n",
       "      <td>1438</td>\n",
       "    </tr>\n",
       "    <tr>\n",
       "      <th>7</th>\n",
       "      <td>P00058042</td>\n",
       "      <td>1422</td>\n",
       "    </tr>\n",
       "    <tr>\n",
       "      <th>8</th>\n",
       "      <td>P00059442</td>\n",
       "      <td>1406</td>\n",
       "    </tr>\n",
       "    <tr>\n",
       "      <th>9</th>\n",
       "      <td>P00145042</td>\n",
       "      <td>1406</td>\n",
       "    </tr>\n",
       "  </tbody>\n",
       "</table>\n",
       "</div>"
      ],
      "text/plain": [
       "     produto  quantidade_vendida\n",
       "0  P00265242                1880\n",
       "1  P00025442                1615\n",
       "2  P00110742                1612\n",
       "3  P00112142                1562\n",
       "4  P00057642                1470\n",
       "5  P00184942                1440\n",
       "6  P00046742                1438\n",
       "7  P00058042                1422\n",
       "8  P00059442                1406\n",
       "9  P00145042                1406"
      ]
     },
     "execution_count": 14,
     "metadata": {},
     "output_type": "execute_result"
    }
   ],
   "source": [
    "top_10_produtos = (\n",
    "    df['produto'].value_counts()\n",
    "    .head(10)\n",
    "    .reset_index()\n",
    "    .rename(columns={'count': 'quantidade_vendida'})\n",
    ")\n",
    "top_10_produtos"
   ]
  },
  {
   "cell_type": "code",
   "execution_count": 15,
   "metadata": {},
   "outputs": [
    {
     "data": {
      "image/png": "[encoded data removed]",
      "text/plain": [
       "<Figure size 640x480 with 1 Axes>"
      ]
     },
     "metadata": {},
     "output_type": "display_data"
    }
   ],
   "source": [
    "# Gráfico de linha\n",
    "PlotUtils.line_plot(\n",
    "    data=top_10_produtos,\n",
    "    x='produto',\n",
    "    y='quantidade_vendida',\n",
    "    title='Top 10 Produtos Mais Vendidos',\n",
    "    xlabel='Produto',\n",
    "    ylabel='Quantidade Vendida',\n",
    "    rotation=45\n",
    ")"
   ]
  },
  {
   "cell_type": "markdown",
   "metadata": {},
   "source": [
    "### 4 - Quantos usuários únicos existem na base?"
   ]
  },
  {
   "cell_type": "code",
   "execution_count": 16,
   "metadata": {},
   "outputs": [
    {
     "name": "stdout",
     "output_type": "stream",
     "text": [
      "Número de usuários únicos na base: 5891\n"
     ]
    }
   ],
   "source": [
    "# usuários distintos na base\n",
    "num_usuarios_unicos = df['usuario'].nunique()\n",
    "print(f\"Número de usuários únicos na base: {num_usuarios_unicos}\")"
   ]
  },
  {
   "cell_type": "markdown",
   "metadata": {},
   "source": [
    "### 5 - Liste os 10 usuários com o maior valor total de vendas"
   ]
  },
  {
   "cell_type": "code",
   "execution_count": 17,
   "metadata": {},
   "outputs": [
    {
     "data": {
      "application/vnd.microsoft.datawrangler.viewer.v0+json": {
       "columns": [
        {
         "name": "index",
         "rawType": "int64",
         "type": "integer"
        },
        {
         "name": "usuario",
         "rawType": "object",
         "type": "unknown"
        },
        {
         "name": "valor_total",
         "rawType": "int64",
         "type": "integer"
        },
        {
         "name": "valor_total_milhoes",
         "rawType": "float64",
         "type": "float"
        }
       ],
       "conversionMethod": "pd.DataFrame",
       "ref": "20ad2a91-630b-4559-8d06-a9a573df75e7",
       "rows": [
        [
         "4166",
         "1004277",
         "10536909",
         "10.536909"
        ],
        [
         "1634",
         "1001680",
         "8699596",
         "8.699596"
        ],
        [
         "2831",
         "1002909",
         "7577756",
         "7.577756"
        ],
        [
         "1885",
         "1001941",
         "6817493",
         "6.817493"
        ],
        [
         "416",
         "1000424",
         "6573609",
         "6.573609"
        ],
        [
         "4335",
         "1004448",
         "6566245",
         "6.566245"
        ],
        [
         "5683",
         "1005831",
         "6512433",
         "6.512433"
        ],
        [
         "981",
         "1001015",
         "6511314",
         "6.511314"
        ],
        [
         "3297",
         "1003391",
         "6477160",
         "6.47716"
        ],
        [
         "1142",
         "1001181",
         "6387961",
         "6.387961"
        ]
       ],
       "shape": {
        "columns": 3,
        "rows": 10
       }
      },
      "text/html": [
       "<div>\n",
       "<style scoped>\n",
       "    .dataframe tbody tr th:only-of-type {\n",
       "        vertical-align: middle;\n",
       "    }\n",
       "\n",
       "    .dataframe tbody tr th {\n",
       "        vertical-align: top;\n",
       "    }\n",
       "\n",
       "    .dataframe thead th {\n",
       "        text-align: right;\n",
       "    }\n",
       "</style>\n",
       "<table border=\"1\" class=\"dataframe\">\n",
       "  <thead>\n",
       "    <tr style=\"text-align: right;\">\n",
       "      <th></th>\n",
       "      <th>usuario</th>\n",
       "      <th>valor_total</th>\n",
       "      <th>valor_total_milhoes</th>\n",
       "    </tr>\n",
       "  </thead>\n",
       "  <tbody>\n",
       "    <tr>\n",
       "      <th>4166</th>\n",
       "      <td>1004277</td>\n",
       "      <td>10536909</td>\n",
       "      <td>10.536909</td>\n",
       "    </tr>\n",
       "    <tr>\n",
       "      <th>1634</th>\n",
       "      <td>1001680</td>\n",
       "      <td>8699596</td>\n",
       "      <td>8.699596</td>\n",
       "    </tr>\n",
       "    <tr>\n",
       "      <th>2831</th>\n",
       "      <td>1002909</td>\n",
       "      <td>7577756</td>\n",
       "      <td>7.577756</td>\n",
       "    </tr>\n",
       "    <tr>\n",
       "      <th>1885</th>\n",
       "      <td>1001941</td>\n",
       "      <td>6817493</td>\n",
       "      <td>6.817493</td>\n",
       "    </tr>\n",
       "    <tr>\n",
       "      <th>416</th>\n",
       "      <td>1000424</td>\n",
       "      <td>6573609</td>\n",
       "      <td>6.573609</td>\n",
       "    </tr>\n",
       "    <tr>\n",
       "      <th>4335</th>\n",
       "      <td>1004448</td>\n",
       "      <td>6566245</td>\n",
       "      <td>6.566245</td>\n",
       "    </tr>\n",
       "    <tr>\n",
       "      <th>5683</th>\n",
       "      <td>1005831</td>\n",
       "      <td>6512433</td>\n",
       "      <td>6.512433</td>\n",
       "    </tr>\n",
       "    <tr>\n",
       "      <th>981</th>\n",
       "      <td>1001015</td>\n",
       "      <td>6511314</td>\n",
       "      <td>6.511314</td>\n",
       "    </tr>\n",
       "    <tr>\n",
       "      <th>3297</th>\n",
       "      <td>1003391</td>\n",
       "      <td>6477160</td>\n",
       "      <td>6.477160</td>\n",
       "    </tr>\n",
       "    <tr>\n",
       "      <th>1142</th>\n",
       "      <td>1001181</td>\n",
       "      <td>6387961</td>\n",
       "      <td>6.387961</td>\n",
       "    </tr>\n",
       "  </tbody>\n",
       "</table>\n",
       "</div>"
      ],
      "text/plain": [
       "      usuario  valor_total  valor_total_milhoes\n",
       "4166  1004277     10536909            10.536909\n",
       "1634  1001680      8699596             8.699596\n",
       "2831  1002909      7577756             7.577756\n",
       "1885  1001941      6817493             6.817493\n",
       "416   1000424      6573609             6.573609\n",
       "4335  1004448      6566245             6.566245\n",
       "5683  1005831      6512433             6.512433\n",
       "981   1001015      6511314             6.511314\n",
       "3297  1003391      6477160             6.477160\n",
       "1142  1001181      6387961             6.387961"
      ]
     },
     "execution_count": 17,
     "metadata": {},
     "output_type": "execute_result"
    }
   ],
   "source": [
    "# Agrupa por usuário, soma o valor e ordena do maior para o menor\n",
    "top_10_usuarios = (\n",
    "    df.groupby('usuario')['valor']\n",
    "    .sum()\n",
    "    .reset_index()\n",
    "    .assign(usuario=lambda x: x['usuario'].astype('object'))\n",
    "    .rename(columns={'valor': 'valor_total'})\n",
    "    .sort_values('valor_total', ascending=False)\n",
    "    .head(10)\n",
    ")\n",
    "\n",
    "top_10_usuarios['valor_total_milhoes'] = top_10_usuarios['valor_total'] / 1_000_000\n",
    "top_10_usuarios"
   ]
  },
  {
   "cell_type": "code",
   "execution_count": 18,
   "metadata": {},
   "outputs": [
    {
     "data": {
      "image/png": "[encoded data removed]",
      "text/plain": [
       "<Figure size 640x480 with 1 Axes>"
      ]
     },
     "metadata": {},
     "output_type": "display_data"
    }
   ],
   "source": [
    "# Gráfico de linha\n",
    "PlotUtils.point_plot(\n",
    "    data=top_10_usuarios,\n",
    "    x='usuario',\n",
    "    y='valor_total_milhoes',\n",
    "    title='Top 10 Usuários em valor comprado',\n",
    "    xlabel='ID do usuario',\n",
    "    ylabel='Valor total em vendas (em milhões de R$)',\n",
    "    rotation=45,\n",
    "    sort_by_y=True\n",
    ")"
   ]
  },
  {
   "cell_type": "markdown",
   "metadata": {},
   "source": [
    "### 6 - Qual porcentagem representa cada faixa etária da base de usuários únicos?"
   ]
  },
  {
   "cell_type": "code",
   "execution_count": 19,
   "metadata": {},
   "outputs": [
    {
     "data": {
      "application/vnd.microsoft.datawrangler.viewer.v0+json": {
       "columns": [
        {
         "name": "index",
         "rawType": "int64",
         "type": "integer"
        },
        {
         "name": "idade",
         "rawType": "category",
         "type": "unknown"
        },
        {
         "name": "proportion",
         "rawType": "float64",
         "type": "float"
        }
       ],
       "conversionMethod": "pd.DataFrame",
       "ref": "6467f891-b18b-44a4-8c66-3779a7465fbb",
       "rows": [
        [
         "0",
         "0-17",
         "3.7"
        ],
        [
         "1",
         "18-25",
         "18.15"
        ],
        [
         "2",
         "26-35",
         "34.85"
        ],
        [
         "3",
         "36-45",
         "19.81"
        ],
        [
         "4",
         "46-50",
         "9.01"
        ],
        [
         "5",
         "51-55",
         "8.16"
        ],
        [
         "6",
         "55+",
         "6.31"
        ]
       ],
       "shape": {
        "columns": 2,
        "rows": 7
       }
      },
      "text/html": [
       "<div>\n",
       "<style scoped>\n",
       "    .dataframe tbody tr th:only-of-type {\n",
       "        vertical-align: middle;\n",
       "    }\n",
       "\n",
       "    .dataframe tbody tr th {\n",
       "        vertical-align: top;\n",
       "    }\n",
       "\n",
       "    .dataframe thead th {\n",
       "        text-align: right;\n",
       "    }\n",
       "</style>\n",
       "<table border=\"1\" class=\"dataframe\">\n",
       "  <thead>\n",
       "    <tr style=\"text-align: right;\">\n",
       "      <th></th>\n",
       "      <th>idade</th>\n",
       "      <th>proportion</th>\n",
       "    </tr>\n",
       "  </thead>\n",
       "  <tbody>\n",
       "    <tr>\n",
       "      <th>0</th>\n",
       "      <td>0-17</td>\n",
       "      <td>3.70</td>\n",
       "    </tr>\n",
       "    <tr>\n",
       "      <th>1</th>\n",
       "      <td>18-25</td>\n",
       "      <td>18.15</td>\n",
       "    </tr>\n",
       "    <tr>\n",
       "      <th>2</th>\n",
       "      <td>26-35</td>\n",
       "      <td>34.85</td>\n",
       "    </tr>\n",
       "    <tr>\n",
       "      <th>3</th>\n",
       "      <td>36-45</td>\n",
       "      <td>19.81</td>\n",
       "    </tr>\n",
       "    <tr>\n",
       "      <th>4</th>\n",
       "      <td>46-50</td>\n",
       "      <td>9.01</td>\n",
       "    </tr>\n",
       "    <tr>\n",
       "      <th>5</th>\n",
       "      <td>51-55</td>\n",
       "      <td>8.16</td>\n",
       "    </tr>\n",
       "    <tr>\n",
       "      <th>6</th>\n",
       "      <td>55+</td>\n",
       "      <td>6.31</td>\n",
       "    </tr>\n",
       "  </tbody>\n",
       "</table>\n",
       "</div>"
      ],
      "text/plain": [
       "   idade  proportion\n",
       "0   0-17        3.70\n",
       "1  18-25       18.15\n",
       "2  26-35       34.85\n",
       "3  36-45       19.81\n",
       "4  46-50        9.01\n",
       "5  51-55        8.16\n",
       "6    55+        6.31"
      ]
     },
     "execution_count": 19,
     "metadata": {},
     "output_type": "execute_result"
    }
   ],
   "source": [
    "# Usuários únicos por faixa etária\n",
    "usuarios_por_idade = (\n",
    "    df.drop_duplicates(subset='usuario')\n",
    "    ['idade'].value_counts(normalize=True, sort=False)  # sort=False para manter a ordem categórica\n",
    "    .mul(100)\n",
    "    .round(2)\n",
    "    .reset_index()\n",
    ")\n",
    "usuarios_por_idade"
   ]
  },
  {
   "cell_type": "code",
   "execution_count": 20,
   "metadata": {},
   "outputs": [
    {
     "data": {
      "image/png": "[encoded data removed]",
      "text/plain": [
       "<Figure size 600x400 with 1 Axes>"
      ]
     },
     "metadata": {},
     "output_type": "display_data"
    }
   ],
   "source": [
    "PlotUtils.bar_plot(\n",
    "    data=usuarios_por_idade,\n",
    "    x='idade',\n",
    "    y='proportion',\n",
    "    title='Usuários únicos por faixa etária',\n",
    "    xlabel='Faixa de Idade',\n",
    "    ylabel='Número de Usuários'\n",
    ")"
   ]
  },
  {
   "cell_type": "markdown",
   "metadata": {},
   "source": [
    "# ETAPA 2"
   ]
  },
  {
   "cell_type": "markdown",
   "metadata": {},
   "source": [
    "### 1 - A empresa precisa identificar qual o público que teve mais alcance na Black Friday, para que no próximo ano tenha uma campanha mais direcionada. Considerando o ticket médio como resultado, faça uma análise e descreva qual ou quais as variáveis mais importantes. Considere: estado civil, gênero, idade, produto e categoria do produto e descreva o racional."
   ]
  },
  {
   "cell_type": "markdown",
   "metadata": {},
   "source": [
    "### Estado Civil"
   ]
  },
  {
   "cell_type": "code",
   "execution_count": 21,
   "metadata": {},
   "outputs": [
    {
     "data": {
      "application/vnd.microsoft.datawrangler.viewer.v0+json": {
       "columns": [
        {
         "name": "index",
         "rawType": "int64",
         "type": "integer"
        },
        {
         "name": "estado_civil",
         "rawType": "category",
         "type": "unknown"
        },
        {
         "name": "ticket_medio",
         "rawType": "int64",
         "type": "integer"
        }
       ],
       "conversionMethod": "pd.DataFrame",
       "ref": "9b7edc02-ec66-4e92-a044-d299b4e27cc6",
       "rows": [
        [
         "0",
         "Casado",
         "9261"
        ],
        [
         "1",
         "Solteiro",
         "9265"
        ]
       ],
       "shape": {
        "columns": 2,
        "rows": 2
       }
      },
      "text/html": [
       "<div>\n",
       "<style scoped>\n",
       "    .dataframe tbody tr th:only-of-type {\n",
       "        vertical-align: middle;\n",
       "    }\n",
       "\n",
       "    .dataframe tbody tr th {\n",
       "        vertical-align: top;\n",
       "    }\n",
       "\n",
       "    .dataframe thead th {\n",
       "        text-align: right;\n",
       "    }\n",
       "</style>\n",
       "<table border=\"1\" class=\"dataframe\">\n",
       "  <thead>\n",
       "    <tr style=\"text-align: right;\">\n",
       "      <th></th>\n",
       "      <th>estado_civil</th>\n",
       "      <th>ticket_medio</th>\n",
       "    </tr>\n",
       "  </thead>\n",
       "  <tbody>\n",
       "    <tr>\n",
       "      <th>0</th>\n",
       "      <td>Casado</td>\n",
       "      <td>9261</td>\n",
       "    </tr>\n",
       "    <tr>\n",
       "      <th>1</th>\n",
       "      <td>Solteiro</td>\n",
       "      <td>9265</td>\n",
       "    </tr>\n",
       "  </tbody>\n",
       "</table>\n",
       "</div>"
      ],
      "text/plain": [
       "  estado_civil  ticket_medio\n",
       "0       Casado          9261\n",
       "1     Solteiro          9265"
      ]
     },
     "execution_count": 21,
     "metadata": {},
     "output_type": "execute_result"
    }
   ],
   "source": [
    "# Estado Civil\n",
    "ticket_medio_por_estado_civil = (\n",
    "    df\n",
    "    .groupby('estado_civil', observed=False)['valor']\n",
    "    .mean()\n",
    "    .astype(int)\n",
    "    .reset_index()\n",
    "    .sort_values('estado_civil')\n",
    "    .rename(columns={'valor': 'ticket_medio'})\n",
    ")\n",
    "ticket_medio_por_estado_civil"
   ]
  },
  {
   "cell_type": "code",
   "execution_count": 22,
   "metadata": {},
   "outputs": [
    {
     "data": {
      "image/png": "[encoded data removed]",
      "text/plain": [
       "<Figure size 600x400 with 1 Axes>"
      ]
     },
     "metadata": {},
     "output_type": "display_data"
    }
   ],
   "source": [
    "PlotUtils.pie_chart(\n",
    "    data=ticket_medio_por_estado_civil.set_index('estado_civil')['ticket_medio'],\n",
    "    title='Ticket Médio por Estado Civil'\n",
    ")"
   ]
  },
  {
   "cell_type": "code",
   "execution_count": 23,
   "metadata": {},
   "outputs": [
    {
     "data": {
      "image/png": "[encoded data removed]",
      "text/plain": [
       "<Figure size 640x480 with 1 Axes>"
      ]
     },
     "metadata": {},
     "output_type": "display_data"
    }
   ],
   "source": [
    "PlotUtils.box_plot(\n",
    "    data=df,\n",
    "    x='estado_civil',\n",
    "    y='valor',\n",
    "    title='Distribuição de Valores de Compra por Estado Civil',\n",
    "    xlabel='Estado Civil',\n",
    "    ylabel='Valor da Compra (R$)'\n",
    ")"
   ]
  },
  {
   "cell_type": "markdown",
   "metadata": {},
   "source": [
    "### Gênero"
   ]
  },
  {
   "cell_type": "code",
   "execution_count": 24,
   "metadata": {},
   "outputs": [
    {
     "data": {
      "application/vnd.microsoft.datawrangler.viewer.v0+json": {
       "columns": [
        {
         "name": "index",
         "rawType": "int64",
         "type": "integer"
        },
        {
         "name": "genero",
         "rawType": "category",
         "type": "unknown"
        },
        {
         "name": "ticket_medio",
         "rawType": "int64",
         "type": "integer"
        }
       ],
       "conversionMethod": "pd.DataFrame",
       "ref": "cbd992d1-96db-43e2-9af2-0ed1cc11789e",
       "rows": [
        [
         "1",
         "Masculino",
         "9437"
        ],
        [
         "0",
         "Feminino",
         "8734"
        ]
       ],
       "shape": {
        "columns": 2,
        "rows": 2
       }
      },
      "text/html": [
       "<div>\n",
       "<style scoped>\n",
       "    .dataframe tbody tr th:only-of-type {\n",
       "        vertical-align: middle;\n",
       "    }\n",
       "\n",
       "    .dataframe tbody tr th {\n",
       "        vertical-align: top;\n",
       "    }\n",
       "\n",
       "    .dataframe thead th {\n",
       "        text-align: right;\n",
       "    }\n",
       "</style>\n",
       "<table border=\"1\" class=\"dataframe\">\n",
       "  <thead>\n",
       "    <tr style=\"text-align: right;\">\n",
       "      <th></th>\n",
       "      <th>genero</th>\n",
       "      <th>ticket_medio</th>\n",
       "    </tr>\n",
       "  </thead>\n",
       "  <tbody>\n",
       "    <tr>\n",
       "      <th>1</th>\n",
       "      <td>Masculino</td>\n",
       "      <td>9437</td>\n",
       "    </tr>\n",
       "    <tr>\n",
       "      <th>0</th>\n",
       "      <td>Feminino</td>\n",
       "      <td>8734</td>\n",
       "    </tr>\n",
       "  </tbody>\n",
       "</table>\n",
       "</div>"
      ],
      "text/plain": [
       "      genero  ticket_medio\n",
       "1  Masculino          9437\n",
       "0   Feminino          8734"
      ]
     },
     "execution_count": 24,
     "metadata": {},
     "output_type": "execute_result"
    }
   ],
   "source": [
    "# Genero\n",
    "ticket_medio_por_genero = (\n",
    "    df\n",
    "    .groupby('genero', observed=False)['valor']\n",
    "    .mean()\n",
    "    .astype(int)\n",
    "    .reset_index()\n",
    "    .sort_values('valor', ascending=False)\n",
    "    .rename(columns={'valor': 'ticket_medio'})\n",
    ")\n",
    "ticket_medio_por_genero"
   ]
  },
  {
   "cell_type": "code",
   "execution_count": 25,
   "metadata": {},
   "outputs": [
    {
     "data": {
      "image/png": "[encoded data removed]",
      "text/plain": [
       "<Figure size 600x400 with 1 Axes>"
      ]
     },
     "metadata": {},
     "output_type": "display_data"
    }
   ],
   "source": [
    "PlotUtils.pie_chart(\n",
    "    data=ticket_medio_por_genero.set_index('genero')['ticket_medio'],\n",
    "    title='Ticket Médio por Genero'\n",
    ")"
   ]
  },
  {
   "cell_type": "code",
   "execution_count": 26,
   "metadata": {},
   "outputs": [
    {
     "data": {
      "image/png": "[encoded data removed]",
      "text/plain": [
       "<Figure size 640x480 with 1 Axes>"
      ]
     },
     "metadata": {},
     "output_type": "display_data"
    }
   ],
   "source": [
    "PlotUtils.box_plot(\n",
    "    data=df,\n",
    "    x='genero',\n",
    "    y='valor',\n",
    "    title='Distribuição de Valores de Compra por Genero',\n",
    "    xlabel='genero',\n",
    "    ylabel='Valor da Compra (R$)'\n",
    ")"
   ]
  },
  {
   "cell_type": "markdown",
   "metadata": {},
   "source": [
    "### Idade"
   ]
  },
  {
   "cell_type": "code",
   "execution_count": 27,
   "metadata": {},
   "outputs": [
    {
     "data": {
      "application/vnd.microsoft.datawrangler.viewer.v0+json": {
       "columns": [
        {
         "name": "index",
         "rawType": "int64",
         "type": "integer"
        },
        {
         "name": "idade",
         "rawType": "category",
         "type": "unknown"
        },
        {
         "name": "ticket_medio",
         "rawType": "int64",
         "type": "integer"
        }
       ],
       "conversionMethod": "pd.DataFrame",
       "ref": "2d25e1e9-5d0f-42b0-83f3-22e108db04d8",
       "rows": [
        [
         "0",
         "0-17",
         "8933"
        ],
        [
         "1",
         "18-25",
         "9169"
        ],
        [
         "2",
         "26-35",
         "9252"
        ],
        [
         "3",
         "36-45",
         "9331"
        ],
        [
         "4",
         "46-50",
         "9208"
        ],
        [
         "5",
         "51-55",
         "9534"
        ],
        [
         "6",
         "55+",
         "9336"
        ]
       ],
       "shape": {
        "columns": 2,
        "rows": 7
       }
      },
      "text/html": [
       "<div>\n",
       "<style scoped>\n",
       "    .dataframe tbody tr th:only-of-type {\n",
       "        vertical-align: middle;\n",
       "    }\n",
       "\n",
       "    .dataframe tbody tr th {\n",
       "        vertical-align: top;\n",
       "    }\n",
       "\n",
       "    .dataframe thead th {\n",
       "        text-align: right;\n",
       "    }\n",
       "</style>\n",
       "<table border=\"1\" class=\"dataframe\">\n",
       "  <thead>\n",
       "    <tr style=\"text-align: right;\">\n",
       "      <th></th>\n",
       "      <th>idade</th>\n",
       "      <th>ticket_medio</th>\n",
       "    </tr>\n",
       "  </thead>\n",
       "  <tbody>\n",
       "    <tr>\n",
       "      <th>0</th>\n",
       "      <td>0-17</td>\n",
       "      <td>8933</td>\n",
       "    </tr>\n",
       "    <tr>\n",
       "      <th>1</th>\n",
       "      <td>18-25</td>\n",
       "      <td>9169</td>\n",
       "    </tr>\n",
       "    <tr>\n",
       "      <th>2</th>\n",
       "      <td>26-35</td>\n",
       "      <td>9252</td>\n",
       "    </tr>\n",
       "    <tr>\n",
       "      <th>3</th>\n",
       "      <td>36-45</td>\n",
       "      <td>9331</td>\n",
       "    </tr>\n",
       "    <tr>\n",
       "      <th>4</th>\n",
       "      <td>46-50</td>\n",
       "      <td>9208</td>\n",
       "    </tr>\n",
       "    <tr>\n",
       "      <th>5</th>\n",
       "      <td>51-55</td>\n",
       "      <td>9534</td>\n",
       "    </tr>\n",
       "    <tr>\n",
       "      <th>6</th>\n",
       "      <td>55+</td>\n",
       "      <td>9336</td>\n",
       "    </tr>\n",
       "  </tbody>\n",
       "</table>\n",
       "</div>"
      ],
      "text/plain": [
       "   idade  ticket_medio\n",
       "0   0-17          8933\n",
       "1  18-25          9169\n",
       "2  26-35          9252\n",
       "3  36-45          9331\n",
       "4  46-50          9208\n",
       "5  51-55          9534\n",
       "6    55+          9336"
      ]
     },
     "execution_count": 27,
     "metadata": {},
     "output_type": "execute_result"
    }
   ],
   "source": [
    "# reaproveitando o cálculo feito na pergunta 1 da etapa anterior\n",
    "ticket_medio_por_idade"
   ]
  },
  {
   "cell_type": "code",
   "execution_count": 28,
   "metadata": {},
   "outputs": [
    {
     "data": {
      "image/png": "[encoded data removed]",
      "text/plain": [
       "<Figure size 600x400 with 1 Axes>"
      ]
     },
     "metadata": {},
     "output_type": "display_data"
    }
   ],
   "source": [
    "PlotUtils.pie_chart(\n",
    "    data=ticket_medio_por_idade.set_index('idade')['ticket_medio'],\n",
    "    title='Ticket Médio por Idade',\n",
    "    colors=sns.color_palette(\"light:#0eafaa\")\n",
    ")"
   ]
  },
  {
   "cell_type": "code",
   "execution_count": 29,
   "metadata": {},
   "outputs": [
    {
     "data": {
      "image/png": "[encoded data removed]",
      "text/plain": [
       "<Figure size 640x480 with 1 Axes>"
      ]
     },
     "metadata": {},
     "output_type": "display_data"
    }
   ],
   "source": [
    "PlotUtils.box_plot(\n",
    "    data=df,\n",
    "    x='idade',\n",
    "    y='valor',\n",
    "    title='Distribuição de Valores de Compra por Faixa de Idade',\n",
    "    xlabel='Idade',\n",
    "    ylabel='Valor da Compra (R$)'\n",
    ")"
   ]
  },
  {
   "cell_type": "markdown",
   "metadata": {},
   "source": [
    "### Produto (Top10)"
   ]
  },
  {
   "cell_type": "code",
   "execution_count": 30,
   "metadata": {},
   "outputs": [
    {
     "data": {
      "application/vnd.microsoft.datawrangler.viewer.v0+json": {
       "columns": [
        {
         "name": "index",
         "rawType": "int64",
         "type": "integer"
        },
        {
         "name": "produto",
         "rawType": "object",
         "type": "string"
        },
        {
         "name": "ticket_medio",
         "rawType": "int64",
         "type": "integer"
        }
       ],
       "conversionMethod": "pd.DataFrame",
       "ref": "10ca4fc6-7def-48ea-8f63-c8a04acc5c34",
       "rows": [
        [
         "836",
         "P00086242",
         "21256"
        ],
        [
         "827",
         "P00085342",
         "20980"
        ],
        [
         "1902",
         "P00200642",
         "20468"
        ],
        [
         "1070",
         "P00116142",
         "20463"
        ],
        [
         "1102",
         "P00119342",
         "20448"
        ],
        [
         "1085",
         "P00117642",
         "20400"
        ],
        [
         "726",
         "P00074542",
         "20323"
        ],
        [
         "3275",
         "P00341542",
         "20291"
        ],
        [
         "519",
         "P00052842",
         "20141"
        ],
        [
         "844",
         "P00087042",
         "20113"
        ]
       ],
       "shape": {
        "columns": 2,
        "rows": 10
       }
      },
      "text/html": [
       "<div>\n",
       "<style scoped>\n",
       "    .dataframe tbody tr th:only-of-type {\n",
       "        vertical-align: middle;\n",
       "    }\n",
       "\n",
       "    .dataframe tbody tr th {\n",
       "        vertical-align: top;\n",
       "    }\n",
       "\n",
       "    .dataframe thead th {\n",
       "        text-align: right;\n",
       "    }\n",
       "</style>\n",
       "<table border=\"1\" class=\"dataframe\">\n",
       "  <thead>\n",
       "    <tr style=\"text-align: right;\">\n",
       "      <th></th>\n",
       "      <th>produto</th>\n",
       "      <th>ticket_medio</th>\n",
       "    </tr>\n",
       "  </thead>\n",
       "  <tbody>\n",
       "    <tr>\n",
       "      <th>836</th>\n",
       "      <td>P00086242</td>\n",
       "      <td>21256</td>\n",
       "    </tr>\n",
       "    <tr>\n",
       "      <th>827</th>\n",
       "      <td>P00085342</td>\n",
       "      <td>20980</td>\n",
       "    </tr>\n",
       "    <tr>\n",
       "      <th>1902</th>\n",
       "      <td>P00200642</td>\n",
       "      <td>20468</td>\n",
       "    </tr>\n",
       "    <tr>\n",
       "      <th>1070</th>\n",
       "      <td>P00116142</td>\n",
       "      <td>20463</td>\n",
       "    </tr>\n",
       "    <tr>\n",
       "      <th>1102</th>\n",
       "      <td>P00119342</td>\n",
       "      <td>20448</td>\n",
       "    </tr>\n",
       "    <tr>\n",
       "      <th>1085</th>\n",
       "      <td>P00117642</td>\n",
       "      <td>20400</td>\n",
       "    </tr>\n",
       "    <tr>\n",
       "      <th>726</th>\n",
       "      <td>P00074542</td>\n",
       "      <td>20323</td>\n",
       "    </tr>\n",
       "    <tr>\n",
       "      <th>3275</th>\n",
       "      <td>P00341542</td>\n",
       "      <td>20291</td>\n",
       "    </tr>\n",
       "    <tr>\n",
       "      <th>519</th>\n",
       "      <td>P00052842</td>\n",
       "      <td>20141</td>\n",
       "    </tr>\n",
       "    <tr>\n",
       "      <th>844</th>\n",
       "      <td>P00087042</td>\n",
       "      <td>20113</td>\n",
       "    </tr>\n",
       "  </tbody>\n",
       "</table>\n",
       "</div>"
      ],
      "text/plain": [
       "        produto  ticket_medio\n",
       "836   P00086242         21256\n",
       "827   P00085342         20980\n",
       "1902  P00200642         20468\n",
       "1070  P00116142         20463\n",
       "1102  P00119342         20448\n",
       "1085  P00117642         20400\n",
       "726   P00074542         20323\n",
       "3275  P00341542         20291\n",
       "519   P00052842         20141\n",
       "844   P00087042         20113"
      ]
     },
     "execution_count": 30,
     "metadata": {},
     "output_type": "execute_result"
    }
   ],
   "source": [
    "ticket_medio_por_produto_top10 = (\n",
    "    df\n",
    "    .groupby('produto', observed=False)['valor']\n",
    "    .mean()\n",
    "    .astype(int)\n",
    "    .reset_index()\n",
    "    .sort_values('valor', ascending=False)\n",
    "    .head(10)\n",
    "    .rename(columns={'valor': 'ticket_medio'})\n",
    ")\n",
    "ticket_medio_por_produto_top10"
   ]
  },
  {
   "cell_type": "code",
   "execution_count": 31,
   "metadata": {},
   "outputs": [
    {
     "data": {
      "image/png": "[encoded data removed]",
      "text/plain": [
       "<Figure size 600x400 with 1 Axes>"
      ]
     },
     "metadata": {},
     "output_type": "display_data"
    }
   ],
   "source": [
    "PlotUtils.bar_plot(\n",
    "    data=ticket_medio_por_produto_top10,\n",
    "    x='produto',\n",
    "    y='ticket_medio',\n",
    "    title='Top 10 Produtos - Ticket Médio',\n",
    "    xlabel='Produto',\n",
    "    ylabel='Ticket Médio',\n",
    "    rotation=45\n",
    ")\n",
    "\n"
   ]
  },
  {
   "cell_type": "code",
   "execution_count": 32,
   "metadata": {},
   "outputs": [
    {
     "data": {
      "image/png": "[encoded data removed]",
      "text/plain": [
       "<Figure size 640x480 with 1 Axes>"
      ]
     },
     "metadata": {},
     "output_type": "display_data"
    }
   ],
   "source": [
    "# Filtra e cria uma cópia explícita\n",
    "top10_produtos_ordenados = ticket_medio_por_produto_top10['produto'].tolist()\n",
    "df_top10_produtos = df[df['produto'].isin(top10_produtos_ordenados)].copy()\n",
    "\n",
    "# Converte 'produto' para categoria ordenada\n",
    "df_top10_produtos['produto'] = pd.Categorical(\n",
    "    df_top10_produtos['produto'],\n",
    "    categories=top10_produtos_ordenados,\n",
    "    ordered=True\n",
    ")\n",
    "\n",
    "# Agora o boxplot respeitará a ordem\n",
    "PlotUtils.box_plot(\n",
    "    data=df_top10_produtos,\n",
    "    x='produto',\n",
    "    y='valor',\n",
    "    title='Distribuição de Valores de Compra (Top 10 Produtos)',\n",
    "    xlabel='Produto',\n",
    "    ylabel='Valor da Compra (R$)',\n",
    "    rotation=45\n",
    ")"
   ]
  },
  {
   "cell_type": "markdown",
   "metadata": {},
   "source": [
    "### Produto (Bottom10)"
   ]
  },
  {
   "cell_type": "code",
   "execution_count": 33,
   "metadata": {},
   "outputs": [
    {
     "data": {
      "application/vnd.microsoft.datawrangler.viewer.v0+json": {
       "columns": [
        {
         "name": "index",
         "rawType": "int64",
         "type": "integer"
        },
        {
         "name": "produto",
         "rawType": "object",
         "type": "string"
        },
        {
         "name": "ticket_medio",
         "rawType": "int64",
         "type": "integer"
        }
       ],
       "conversionMethod": "pd.DataFrame",
       "ref": "c5fa368c-cbec-405c-94f0-5140f37c643c",
       "rows": [
        [
         "3560",
         "P00370293",
         "36"
        ],
        [
         "3565",
         "P00370853",
         "37"
        ],
        [
         "3566",
         "P00371644",
         "362"
        ],
        [
         "3567",
         "P00372445",
         "374"
        ],
        [
         "3568",
         "P00375436",
         "374"
        ],
        [
         "891",
         "P00091742",
         "405"
        ],
        [
         "406",
         "P00041442",
         "455"
        ],
        [
         "2814",
         "P00293442",
         "478"
        ],
        [
         "616",
         "P00063242",
         "498"
        ],
        [
         "2620",
         "P00273842",
         "524"
        ]
       ],
       "shape": {
        "columns": 2,
        "rows": 10
       }
      },
      "text/html": [
       "<div>\n",
       "<style scoped>\n",
       "    .dataframe tbody tr th:only-of-type {\n",
       "        vertical-align: middle;\n",
       "    }\n",
       "\n",
       "    .dataframe tbody tr th {\n",
       "        vertical-align: top;\n",
       "    }\n",
       "\n",
       "    .dataframe thead th {\n",
       "        text-align: right;\n",
       "    }\n",
       "</style>\n",
       "<table border=\"1\" class=\"dataframe\">\n",
       "  <thead>\n",
       "    <tr style=\"text-align: right;\">\n",
       "      <th></th>\n",
       "      <th>produto</th>\n",
       "      <th>ticket_medio</th>\n",
       "    </tr>\n",
       "  </thead>\n",
       "  <tbody>\n",
       "    <tr>\n",
       "      <th>3560</th>\n",
       "      <td>P00370293</td>\n",
       "      <td>36</td>\n",
       "    </tr>\n",
       "    <tr>\n",
       "      <th>3565</th>\n",
       "      <td>P00370853</td>\n",
       "      <td>37</td>\n",
       "    </tr>\n",
       "    <tr>\n",
       "      <th>3566</th>\n",
       "      <td>P00371644</td>\n",
       "      <td>362</td>\n",
       "    </tr>\n",
       "    <tr>\n",
       "      <th>3567</th>\n",
       "      <td>P00372445</td>\n",
       "      <td>374</td>\n",
       "    </tr>\n",
       "    <tr>\n",
       "      <th>3568</th>\n",
       "      <td>P00375436</td>\n",
       "      <td>374</td>\n",
       "    </tr>\n",
       "    <tr>\n",
       "      <th>891</th>\n",
       "      <td>P00091742</td>\n",
       "      <td>405</td>\n",
       "    </tr>\n",
       "    <tr>\n",
       "      <th>406</th>\n",
       "      <td>P00041442</td>\n",
       "      <td>455</td>\n",
       "    </tr>\n",
       "    <tr>\n",
       "      <th>2814</th>\n",
       "      <td>P00293442</td>\n",
       "      <td>478</td>\n",
       "    </tr>\n",
       "    <tr>\n",
       "      <th>616</th>\n",
       "      <td>P00063242</td>\n",
       "      <td>498</td>\n",
       "    </tr>\n",
       "    <tr>\n",
       "      <th>2620</th>\n",
       "      <td>P00273842</td>\n",
       "      <td>524</td>\n",
       "    </tr>\n",
       "  </tbody>\n",
       "</table>\n",
       "</div>"
      ],
      "text/plain": [
       "        produto  ticket_medio\n",
       "3560  P00370293            36\n",
       "3565  P00370853            37\n",
       "3566  P00371644           362\n",
       "3567  P00372445           374\n",
       "3568  P00375436           374\n",
       "891   P00091742           405\n",
       "406   P00041442           455\n",
       "2814  P00293442           478\n",
       "616   P00063242           498\n",
       "2620  P00273842           524"
      ]
     },
     "execution_count": 33,
     "metadata": {},
     "output_type": "execute_result"
    }
   ],
   "source": [
    "#Ticket Médio dos 10 Piores Produtos (ordenado do menor para o maior)\n",
    "ticket_medio_por_produto_bottom10 = (\n",
    "    df\n",
    "    .groupby('produto', observed=False)['valor']\n",
    "    .mean()\n",
    "    .astype(int)\n",
    "    .reset_index()\n",
    "    .sort_values('valor', ascending=True)\n",
    "    .head(10)\n",
    "    .rename(columns={'valor': 'ticket_medio'})\n",
    ")\n",
    "ticket_medio_por_produto_bottom10"
   ]
  },
  {
   "cell_type": "code",
   "execution_count": 34,
   "metadata": {},
   "outputs": [
    {
     "data": {
      "image/png": "[encoded data removed]",
      "text/plain": [
       "<Figure size 600x400 with 1 Axes>"
      ]
     },
     "metadata": {},
     "output_type": "display_data"
    }
   ],
   "source": [
    "# 2. Gráfico de Barras (Bottom 10 Produtos)\n",
    "PlotUtils.bar_plot(\n",
    "    data=ticket_medio_por_produto_bottom10,\n",
    "    x='produto',\n",
    "    y='ticket_medio',\n",
    "    title='10 Piores Produtos - Ticket Médio',\n",
    "    xlabel='Produto',\n",
    "    ylabel='Ticket Médio (R$)',\n",
    "    rotation=45,\n",
    "    order=ticket_medio_por_produto_bottom10['produto']  # Ordem crescente\n",
    ")"
   ]
  },
  {
   "cell_type": "code",
   "execution_count": 35,
   "metadata": {},
   "outputs": [
    {
     "data": {
      "image/png": "[encoded data removed]",
      "text/plain": [
       "<Figure size 640x480 with 1 Axes>"
      ]
     },
     "metadata": {},
     "output_type": "display_data"
    }
   ],
   "source": [
    "# Prepara o DataFrame filtrado (Bottom 10 produtos)\n",
    "bottom10_produtos_ordenados = ticket_medio_por_produto_bottom10['produto'].tolist()\n",
    "df_bottom10_produtos = df[df['produto'].isin(bottom10_produtos_ordenados)].copy()  # Evita SettingWithCopyWarning\n",
    "\n",
    "# Garante a ordem correta no boxplot (do menor para o maior)\n",
    "df_bottom10_produtos['produto'] = pd.Categorical(\n",
    "    df_bottom10_produtos['produto'],\n",
    "    categories=bottom10_produtos_ordenados,\n",
    "    ordered=True\n",
    ")\n",
    "\n",
    "# 4. Boxplot (Distribuição de valores dos piores produtos)\n",
    "PlotUtils.box_plot(\n",
    "    data=df_bottom10_produtos,\n",
    "    x='produto',\n",
    "    y='valor',\n",
    "    title='Distribuição de Valores de Compra (10 Piores Produtos)',\n",
    "    xlabel='Produto',\n",
    "    ylabel='Valor da Compra (R$)',\n",
    "    rotation=45)"
   ]
  },
  {
   "cell_type": "markdown",
   "metadata": {},
   "source": [
    "### Categoria do Produto (Top10)"
   ]
  },
  {
   "cell_type": "code",
   "execution_count": 36,
   "metadata": {},
   "outputs": [
    {
     "data": {
      "application/vnd.microsoft.datawrangler.viewer.v0+json": {
       "columns": [
        {
         "name": "index",
         "rawType": "int64",
         "type": "integer"
        },
        {
         "name": "produto_categoria",
         "rawType": "category",
         "type": "unknown"
        },
        {
         "name": "ticket_medio",
         "rawType": "int64",
         "type": "integer"
        }
       ],
       "conversionMethod": "pd.DataFrame",
       "ref": "b99f0c39-4e25-4766-93a6-8d059761dc62",
       "rows": [
        [
         "9",
         "10",
         "19675"
        ],
        [
         "6",
         "7",
         "16365"
        ],
        [
         "5",
         "6",
         "15838"
        ],
        [
         "8",
         "9",
         "15537"
        ],
        [
         "14",
         "15",
         "14780"
        ],
        [
         "15",
         "16",
         "14766"
        ],
        [
         "0",
         "1",
         "13606"
        ],
        [
         "13",
         "14",
         "13141"
        ],
        [
         "1",
         "2",
         "11251"
        ],
        [
         "16",
         "17",
         "10170"
        ]
       ],
       "shape": {
        "columns": 2,
        "rows": 10
       }
      },
      "text/html": [
       "<div>\n",
       "<style scoped>\n",
       "    .dataframe tbody tr th:only-of-type {\n",
       "        vertical-align: middle;\n",
       "    }\n",
       "\n",
       "    .dataframe tbody tr th {\n",
       "        vertical-align: top;\n",
       "    }\n",
       "\n",
       "    .dataframe thead th {\n",
       "        text-align: right;\n",
       "    }\n",
       "</style>\n",
       "<table border=\"1\" class=\"dataframe\">\n",
       "  <thead>\n",
       "    <tr style=\"text-align: right;\">\n",
       "      <th></th>\n",
       "      <th>produto_categoria</th>\n",
       "      <th>ticket_medio</th>\n",
       "    </tr>\n",
       "  </thead>\n",
       "  <tbody>\n",
       "    <tr>\n",
       "      <th>9</th>\n",
       "      <td>10</td>\n",
       "      <td>19675</td>\n",
       "    </tr>\n",
       "    <tr>\n",
       "      <th>6</th>\n",
       "      <td>7</td>\n",
       "      <td>16365</td>\n",
       "    </tr>\n",
       "    <tr>\n",
       "      <th>5</th>\n",
       "      <td>6</td>\n",
       "      <td>15838</td>\n",
       "    </tr>\n",
       "    <tr>\n",
       "      <th>8</th>\n",
       "      <td>9</td>\n",
       "      <td>15537</td>\n",
       "    </tr>\n",
       "    <tr>\n",
       "      <th>14</th>\n",
       "      <td>15</td>\n",
       "      <td>14780</td>\n",
       "    </tr>\n",
       "    <tr>\n",
       "      <th>15</th>\n",
       "      <td>16</td>\n",
       "      <td>14766</td>\n",
       "    </tr>\n",
       "    <tr>\n",
       "      <th>0</th>\n",
       "      <td>1</td>\n",
       "      <td>13606</td>\n",
       "    </tr>\n",
       "    <tr>\n",
       "      <th>13</th>\n",
       "      <td>14</td>\n",
       "      <td>13141</td>\n",
       "    </tr>\n",
       "    <tr>\n",
       "      <th>1</th>\n",
       "      <td>2</td>\n",
       "      <td>11251</td>\n",
       "    </tr>\n",
       "    <tr>\n",
       "      <th>16</th>\n",
       "      <td>17</td>\n",
       "      <td>10170</td>\n",
       "    </tr>\n",
       "  </tbody>\n",
       "</table>\n",
       "</div>"
      ],
      "text/plain": [
       "   produto_categoria  ticket_medio\n",
       "9                 10         19675\n",
       "6                  7         16365\n",
       "5                  6         15838\n",
       "8                  9         15537\n",
       "14                15         14780\n",
       "15                16         14766\n",
       "0                  1         13606\n",
       "13                14         13141\n",
       "1                  2         11251\n",
       "16                17         10170"
      ]
     },
     "execution_count": 36,
     "metadata": {},
     "output_type": "execute_result"
    }
   ],
   "source": [
    "# categoria do produto\n",
    "ticket_medio_por_categoria_top10 = (\n",
    "    df\n",
    "    .groupby('produto_categoria', observed=False)['valor']\n",
    "    .mean()\n",
    "    .astype(int)\n",
    "    .reset_index()\n",
    "    .sort_values('valor', ascending=False)\n",
    "    .head(10)\n",
    "    .rename(columns={'valor': 'ticket_medio'})\n",
    ")\n",
    "\n",
    "ticket_medio_por_categoria_top10"
   ]
  },
  {
   "cell_type": "code",
   "execution_count": 37,
   "metadata": {},
   "outputs": [
    {
     "data": {
      "image/png": "[encoded data removed]",
      "text/plain": [
       "<Figure size 600x400 with 1 Axes>"
      ]
     },
     "metadata": {},
     "output_type": "display_data"
    }
   ],
   "source": [
    "PlotUtils.bar_plot(\n",
    "    data=ticket_medio_por_categoria_top10,\n",
    "    x='produto_categoria',\n",
    "    y='ticket_medio',\n",
    "    title='Top 10 Categorias - Ticket Médio',\n",
    "    xlabel='Categoria do Produto',\n",
    "    ylabel='Ticket Médio (R$)',\n",
    "    rotation=45,\n",
    "    order=ticket_medio_por_categoria_top10['produto_categoria']  # Ordem decrescente\n",
    ")"
   ]
  },
  {
   "cell_type": "code",
   "execution_count": 38,
   "metadata": {},
   "outputs": [
    {
     "data": {
      "image/png": "[encoded data removed]",
      "text/plain": [
       "<Figure size 640x480 with 1 Axes>"
      ]
     },
     "metadata": {},
     "output_type": "display_data"
    }
   ],
   "source": [
    "# 3. Prepara o DataFrame filtrado (Top 10 categorias)\n",
    "top10_categorias_ordenadas = ticket_medio_por_categoria_top10['produto_categoria'].tolist()\n",
    "df_top10_categorias = df[df['produto_categoria'].isin(top10_categorias_ordenadas)].copy()\n",
    "\n",
    "# Garante a ordem correta no boxplot\n",
    "df_top10_categorias['produto_categoria'] = pd.Categorical(\n",
    "    df_top10_categorias['produto_categoria'],\n",
    "    categories=top10_categorias_ordenadas,\n",
    "    ordered=True\n",
    ")\n",
    "\n",
    "# 4. Boxplot (Distribuição de valores por categoria)\n",
    "PlotUtils.box_plot(\n",
    "    data=df_top10_categorias,\n",
    "    x='produto_categoria',\n",
    "    y='valor',\n",
    "    title='Distribuição de Valores por Categoria (Top 10)',\n",
    "    xlabel='Categoria do Produto',\n",
    "    ylabel='Valor da Compra (R$)',\n",
    "    rotation=45\n",
    ")"
   ]
  },
  {
   "cell_type": "markdown",
   "metadata": {},
   "source": [
    "Comentários\n",
    "\n",
    "1. Estado Civil\n",
    "- Ticket médio praticamente igual\n",
    "- Distribuição de valores: Ambos têm comportamentos similares (boxplot sem outliers significativos).\n",
    "- Conclusão: Estado civil não é um fator decisivo para diferenciação de campanhas.\n",
    "\n",
    "<br> \n",
    "\n",
    "2. Gênero\n",
    "- Ticket médio maior para homens\n",
    "- Distribuição de valores: Homens têm média mais alta, mas a dispersão (boxplot) é similar para ambos.\n",
    "- Conclusão: Público masculino gasta mais em média, mas a diferença não é extremamente significativa. Pode ser interessante testar campanhas segmentadas por gênero.\n",
    "\n",
    "<br> \n",
    "\n",
    "3. Faixa Etária\n",
    "- Pelo ticket médio não se observou comportamentos radicalmente diferentes. Apresentaram ticket médio de aprox 9 a 9,5 mil, com boxplo muito parecidos.\n",
    "\n",
    "<br> \n",
    "\n",
    "4. Produtos (Top10) \n",
    "- Todos os produtos do Top10 têm tickets médios acima de R$20.000.\n",
    "- Distribuição de valores: Produtos premium apresentam outliers baixos, talvez indicando promoções com descontos pontuais.\n",
    "\n",
    "<br>\n",
    "\n",
    "5. Produtos (Bottom10) \n",
    "- P00370293 e/ou P00370853 possuem os menores tickets médios (36 e 37) com outliers também consistentemente baixo\n",
    "\n",
    "<br> \n",
    "\n",
    "6. Categorias (Top10)\n",
    "- A melhor categoria (10) possui ticket médio de R$ 19.675. \n",
    "- No top10, 9 estão aentre 10 a 16 mil.\n",
    "- As categorias 7, 6 e 15 possuem outliers significativamente baixos. Cabe uma oportunidade para investigar os motivos.\n",
    "- Se uma categoria tem mediana alta, como a 10, isso sugere oportunidade para bundles ou parcelamento longo.\n",
    "- Outras categorias como a 9, 16, 1, 14 e 2 possuem dispersão menores, sendo mais consistentes"
   ]
  },
  {
   "cell_type": "markdown",
   "metadata": {},
   "source": [
    "### 2 - Além do público alvo, a empresa precisa também analisar as saídas por categoria de produto. Favor analisar e demonstrar o racional e um gráfico."
   ]
  },
  {
   "cell_type": "markdown",
   "metadata": {},
   "source": [
    "Essa pergunta foi respondida no tópico 5 no comentário acima"
   ]
  },
  {
   "cell_type": "markdown",
   "metadata": {},
   "source": [
    "\n",
    "### 3 - Dando continuidade na pesquisa para o próximo ano, favor indicar os top 3 produtos que indicaria para venda no próximo ano, e 1 para riscar da lista. Descreva o racional"
   ]
  },
  {
   "cell_type": "markdown",
   "metadata": {},
   "source": [
    "- Usando como critério o ticket médio, escolheria um do top 10, já que a diferença entre elas é bem pequena (todos eles acima de 20 mil e desvio padrão muito parecido)\n",
    "- Para riscar da lista, P00370293 e/ou P00370853 que possuem tickets muito baixo.\n",
    "- Além do ticket, deve-se levar em consideração outros fatores como: dificuldade e custos com suporte, transporte, estoque, custos, etc e não necessamente o maior ticket signifique maior lucro."
   ]
  },
  {
   "cell_type": "markdown",
   "metadata": {},
   "source": [
    "### Conteúdo Extra"
   ]
  },
  {
   "cell_type": "markdown",
   "metadata": {},
   "source": [
    "- Durante o processo de resolução do case, realizei algumas análises exploratórias adicionais que me ajudaram a compreender melhor o dataset. Essas investigações trouxeram insights interessantes sobre a distribuição dos dados, relações entre variáveis e padrões comportamentais que, embora relevantes para o entendimento global do problema, não foram diretamente utilizados na resposta final ao case.\n",
    "\n",
    "- Embora esses achados não tenham sido incorporados à solução final, eles contribuíram significativamente para minha compreensão do contexto dos dados e poderão ser úteis em futuras iterações ou aprofundamentos no projeto."
   ]
  },
  {
   "cell_type": "code",
   "execution_count": 39,
   "metadata": {},
   "outputs": [
    {
     "data": {
      "image/png": "[encoded data removed]",
      "text/plain": [
       "<Figure size 640x480 with 1 Axes>"
      ]
     },
     "metadata": {},
     "output_type": "display_data"
    }
   ],
   "source": [
    "# Contar compras por gênero\n",
    "contagem_genero = df['genero'].value_counts()\n",
    "\n",
    "# Criar o gráfico de pizza\n",
    "plt.pie(contagem_genero, \n",
    "        labels=contagem_genero.index, \n",
    "        autopct='%1.1f%%', \n",
    "        startangle=90,\n",
    "        colors=['#1F6FF0', '#0eafaa'],\n",
    "        explode=(0.05, 0),  # Separar ligeiramente as fatias\n",
    "        shadow=True)\n",
    "plt.title('Distribuição de Compras por Gênero', y=1.05, fontsize=14)\n",
    "plt.axis('equal')\n",
    "plt.legend(\n",
    "    labels=[f\"{g} ({locale.format_string('%d', q, grouping=True)} compras)\" \n",
    "            for g, q in zip(contagem_genero.index, contagem_genero)],\n",
    "    loc='upper right'\n",
    ")\n",
    "\n",
    "plt.tight_layout()\n",
    "plt.show()"
   ]
  },
  {
   "cell_type": "code",
   "execution_count": 40,
   "metadata": {},
   "outputs": [
    {
     "data": {
      "image/png": "[encoded data removed]",
      "text/plain": [
       "<Figure size 640x480 with 1 Axes>"
      ]
     },
     "metadata": {},
     "output_type": "display_data"
    }
   ],
   "source": [
    "# Frequência de Compras por Categoria de Produto\n",
    "sns.countplot(data=df, x='produto_categoria', order=df['produto_categoria'].value_counts().index, color='#0eafaa')\n",
    "plt.title('Frequência de Compras por Categoria de Produto')\n",
    "plt.xlabel('Categoria do Produto')\n",
    "plt.ylabel('Quantidade de Compras')\n",
    "plt.xticks(rotation=45)\n",
    "plt.show()"
   ]
  },
  {
   "cell_type": "code",
   "execution_count": 41,
   "metadata": {},
   "outputs": [
    {
     "data": {
      "application/vnd.microsoft.datawrangler.viewer.v0+json": {
       "columns": [
        {
         "name": "index",
         "rawType": "int64",
         "type": "integer"
        },
        {
         "name": "produto",
         "rawType": "object",
         "type": "string"
        },
        {
         "name": "count",
         "rawType": "int64",
         "type": "integer"
        }
       ],
       "conversionMethod": "pd.DataFrame",
       "ref": "708a4515-ce9c-4fbd-aeec-2b592baa0956",
       "rows": [
        [
         "0",
         "P00265242",
         "1880"
        ],
        [
         "1",
         "P00025442",
         "1615"
        ],
        [
         "2",
         "P00110742",
         "1612"
        ],
        [
         "3",
         "P00112142",
         "1562"
        ],
        [
         "4",
         "P00057642",
         "1470"
        ],
        [
         "5",
         "P00184942",
         "1440"
        ],
        [
         "6",
         "P00046742",
         "1438"
        ],
        [
         "7",
         "P00058042",
         "1422"
        ],
        [
         "9",
         "P00145042",
         "1406"
        ],
        [
         "8",
         "P00059442",
         "1406"
        ],
        [
         "10",
         "P00237542",
         "1394"
        ],
        [
         "11",
         "P00255842",
         "1383"
        ],
        [
         "12",
         "P00117942",
         "1364"
        ],
        [
         "13",
         "P00110942",
         "1360"
        ],
        [
         "14",
         "P00010742",
         "1350"
        ],
        [
         "15",
         "P00220442",
         "1282"
        ],
        [
         "16",
         "P00110842",
         "1281"
        ],
        [
         "17",
         "P00117442",
         "1260"
        ],
        [
         "18",
         "P00051442",
         "1249"
        ],
        [
         "19",
         "P00102642",
         "1246"
        ],
        [
         "20",
         "P00278642",
         "1226"
        ],
        [
         "21",
         "P00242742",
         "1215"
        ],
        [
         "22",
         "P00034742",
         "1212"
        ],
        [
         "23",
         "P00148642",
         "1204"
        ],
        [
         "24",
         "P00080342",
         "1203"
        ],
        [
         "25",
         "P00031042",
         "1200"
        ],
        [
         "26",
         "P00028842",
         "1197"
        ],
        [
         "27",
         "P00251242",
         "1187"
        ],
        [
         "28",
         "P00114942",
         "1178"
        ],
        [
         "30",
         "P00000142",
         "1152"
        ],
        [
         "29",
         "P00270942",
         "1152"
        ],
        [
         "31",
         "P00112542",
         "1131"
        ],
        [
         "32",
         "P00044442",
         "1111"
        ],
        [
         "33",
         "P00334242",
         "1093"
        ],
        [
         "34",
         "P00111142",
         "1015"
        ],
        [
         "35",
         "P00277642",
         "989"
        ],
        [
         "36",
         "P00052842",
         "982"
        ],
        [
         "37",
         "P00116842",
         "979"
        ],
        [
         "38",
         "P00295942",
         "972"
        ],
        [
         "39",
         "P00005042",
         "969"
        ],
        [
         "40",
         "P00003442",
         "968"
        ],
        [
         "41",
         "P00086442",
         "966"
        ],
        [
         "42",
         "P00258742",
         "964"
        ],
        [
         "43",
         "P00085942",
         "963"
        ],
        [
         "44",
         "P00110542",
         "958"
        ],
        [
         "45",
         "P00216342",
         "943"
        ],
        [
         "46",
         "P00073842",
         "936"
        ],
        [
         "47",
         "P00128942",
         "936"
        ],
        [
         "48",
         "P00113242",
         "933"
        ],
        [
         "49",
         "P00112442",
         "923"
        ]
       ],
       "shape": {
        "columns": 2,
        "rows": 3631
       }
      },
      "text/html": [
       "<div>\n",
       "<style scoped>\n",
       "    .dataframe tbody tr th:only-of-type {\n",
       "        vertical-align: middle;\n",
       "    }\n",
       "\n",
       "    .dataframe tbody tr th {\n",
       "        vertical-align: top;\n",
       "    }\n",
       "\n",
       "    .dataframe thead th {\n",
       "        text-align: right;\n",
       "    }\n",
       "</style>\n",
       "<table border=\"1\" class=\"dataframe\">\n",
       "  <thead>\n",
       "    <tr style=\"text-align: right;\">\n",
       "      <th></th>\n",
       "      <th>produto</th>\n",
       "      <th>count</th>\n",
       "    </tr>\n",
       "  </thead>\n",
       "  <tbody>\n",
       "    <tr>\n",
       "      <th>0</th>\n",
       "      <td>P00265242</td>\n",
       "      <td>1880</td>\n",
       "    </tr>\n",
       "    <tr>\n",
       "      <th>1</th>\n",
       "      <td>P00025442</td>\n",
       "      <td>1615</td>\n",
       "    </tr>\n",
       "    <tr>\n",
       "      <th>2</th>\n",
       "      <td>P00110742</td>\n",
       "      <td>1612</td>\n",
       "    </tr>\n",
       "    <tr>\n",
       "      <th>3</th>\n",
       "      <td>P00112142</td>\n",
       "      <td>1562</td>\n",
       "    </tr>\n",
       "    <tr>\n",
       "      <th>4</th>\n",
       "      <td>P00057642</td>\n",
       "      <td>1470</td>\n",
       "    </tr>\n",
       "    <tr>\n",
       "      <th>...</th>\n",
       "      <td>...</td>\n",
       "      <td>...</td>\n",
       "    </tr>\n",
       "    <tr>\n",
       "      <th>3626</th>\n",
       "      <td>P00325342</td>\n",
       "      <td>1</td>\n",
       "    </tr>\n",
       "    <tr>\n",
       "      <th>3627</th>\n",
       "      <td>P00312542</td>\n",
       "      <td>1</td>\n",
       "    </tr>\n",
       "    <tr>\n",
       "      <th>3628</th>\n",
       "      <td>P00008942</td>\n",
       "      <td>1</td>\n",
       "    </tr>\n",
       "    <tr>\n",
       "      <th>3629</th>\n",
       "      <td>P00315142</td>\n",
       "      <td>1</td>\n",
       "    </tr>\n",
       "    <tr>\n",
       "      <th>3630</th>\n",
       "      <td>P00365942</td>\n",
       "      <td>1</td>\n",
       "    </tr>\n",
       "  </tbody>\n",
       "</table>\n",
       "<p>3631 rows × 2 columns</p>\n",
       "</div>"
      ],
      "text/plain": [
       "        produto  count\n",
       "0     P00265242   1880\n",
       "1     P00025442   1615\n",
       "2     P00110742   1612\n",
       "3     P00112142   1562\n",
       "4     P00057642   1470\n",
       "...         ...    ...\n",
       "3626  P00325342      1\n",
       "3627  P00312542      1\n",
       "3628  P00008942      1\n",
       "3629  P00315142      1\n",
       "3630  P00365942      1\n",
       "\n",
       "[3631 rows x 2 columns]"
      ]
     },
     "execution_count": 41,
     "metadata": {},
     "output_type": "execute_result"
    }
   ],
   "source": [
    "produto = df['produto'].value_counts().reset_index().sort_values('count', ascending=False)\n",
    "produto"
   ]
  },
  {
   "cell_type": "code",
   "execution_count": 42,
   "metadata": {},
   "outputs": [
    {
     "data": {
      "image/png": "[encoded data removed]",
      "text/plain": [
       "<Figure size 640x480 with 1 Axes>"
      ]
     },
     "metadata": {},
     "output_type": "display_data"
    }
   ],
   "source": [
    "#Valor Médio por Categoria de Produto (completo)\n",
    "sns.barplot(data=df, \n",
    "           x='produto_categoria', \n",
    "           y='valor',\n",
    "           estimator='mean',\n",
    "           order=df.groupby('produto_categoria', observed=False)['valor'].mean().sort_values(ascending=False).index,\n",
    "           color='#04F7F7',\n",
    "           saturation=0.4)\n",
    "\n",
    "plt.title('Valor Médio por Categoria de Produto', pad=20, fontweight='bold')\n",
    "plt.xlabel('Categoria do Produto', labelpad=10)\n",
    "plt.ylabel('Valor Médio (R$)', labelpad=10)\n",
    "plt.xticks(rotation=45)\n",
    "plt.grid(axis='y', linestyle='--', alpha=0.4)\n",
    "plt.tight_layout()\n",
    "plt.show()"
   ]
  },
  {
   "cell_type": "code",
   "execution_count": 46,
   "metadata": {},
   "outputs": [
    {
     "data": {
      "image/png": "[encoded data removed]",
      "text/plain": [
       "<Figure size 640x480 with 1 Axes>"
      ]
     },
     "metadata": {},
     "output_type": "display_data"
    }
   ],
   "source": [
    "# Definir a ordem correta das faixas etárias e converter a coluna 'idade' para categoria ordenada\n",
    "sns.histplot(data=df, x='idade', shrink=0.8, color='#002768')\n",
    "plt.title('Quantidade de Compras por Faixa Etária')\n",
    "plt.xlabel('Faixa Etária')\n",
    "plt.ylabel('Contagem')\n",
    "plt.xticks(rotation=45)\n",
    "plt.tight_layout()\n",
    "plt.show()"
   ]
  },
  {
   "cell_type": "markdown",
   "metadata": {},
   "source": [
    "Análise por valores de compra:\n",
    "- O produto mais vendido é P00265242, que vendeu 1880 unidades\n",
    "- Assimetria à direita (com a maioria das compras concentrada nos valores mais baixos) e algumas poucas compras com valores significativamente mais altos.\n",
    "- Esta distribuição condiz com uma típica de dados de varejo, onde a maioria das transações envolve valores modestos, com algumas poucas transações de alto valor.\n",
    "-  Há uma concentração significativa de compras nos primeiros intervalos de valor (provavelmente entre 1.000-5.000), que depois decai rapidamente conforme o valor aumenta.\n",
    "- Valores atípicos: A cauda longa à direita sugere a presença de alguns valores atípicos (outliers)\n",
    "\n",
    "Análise por gênero\n",
    "- mulheres tendem a fazer compras de valor mais modesto\n",
    "- homens representam 75% das compras e tem maior variabilidade nos valores das compras e mediana mais elevada"
   ]
  }
 ],
 "metadata": {
  "kernelspec": {
   "display_name": ".venv",
   "language": "python",
   "name": "python3"
  },
  "language_info": {
   "codemirror_mode": {
    "name": "ipython",
    "version": 3
   },
   "file_extension": ".py",
   "mimetype": "text/x-python",
   "name": "python",
   "nbconvert_exporter": "python",
   "pygments_lexer": "ipython3",
   "version": "3.12.3"
  }
 },
 "nbformat": 4,
 "nbformat_minor": 2
}
