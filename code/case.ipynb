{
 "cells": [
  {
   "cell_type": "markdown",
   "metadata": {},
   "source": [
    "1 - Qual o ticket médio das vendas por idade ordenado por idade?\n",
    "\n",
    "2 - Qual o total de vendas por idade ordenado pelo valor total de vendas?\n",
    "\n",
    "3 - Liste a quantidade dos 10 produtos mais vendidos \n",
    " \n",
    "4 - Quantos usuários únicos existem na base?\n",
    "\n",
    "5 - Liste os 10 usuários com o maior valor total de vendas\n",
    "\n",
    "6 - Qual porcentagem representa cada faixa etária da base de usuários únicos?"
   ]
  },
  {
   "cell_type": "markdown",
   "metadata": {},
   "source": [
    "## Carregando as bibliotecas"
   ]
  },
  {
   "cell_type": "code",
   "execution_count": 21,
   "metadata": {},
   "outputs": [],
   "source": [
    "import pandas as pd\n",
    "import os\n",
    "import json\n",
    "from pathlib import Path"
   ]
  },
  {
   "cell_type": "code",
   "execution_count": null,
   "metadata": {},
   "outputs": [],
   "source": [
    "# Criando o caminho relativo da pasta com os arquivos JSON e capturando o nome dos arquivos\n",
    "data_dir_caminho = Path('..') / 'data'\n",
    "arquivos_json = [arq for arq in os.listdir(data_dir_caminho) if arq.endswith('.json')]"
   ]
  },
  {
   "cell_type": "code",
   "execution_count": null,
   "metadata": {},
   "outputs": [
    {
     "name": "stdout",
     "output_type": "stream",
     "text": [
      "DataFrame final: 550068 linhas\n"
     ]
    }
   ],
   "source": [
    "# Carrega e concatena (parâmetro lines=True para evitar o aviso de Warning - lê cada linha como um objeto JSON separado)\n",
    "dfs = []\n",
    "for arquivo in arquivos_json:\n",
    "    caminho = os.path.join(data_dir_caminho, arquivo)\n",
    "    df = pd.read_json(caminho, lines=True)\n",
    "    dfs.append(df)\n",
    "\n",
    "df_final = pd.concat(dfs, ignore_index=True)\n",
    "print(f\"DataFrame final: {len(df_final)} linhas\")"
   ]
  },
  {
   "cell_type": "markdown",
   "metadata": {},
   "source": [
    "próximos passos:\n",
    "\n",
    "- fazer a análise exploratória\n",
    "\n",
    "- responder as perguntas de negócio"
   ]
  }
 ],
 "metadata": {
  "kernelspec": {
   "display_name": ".venv",
   "language": "python",
   "name": "python3"
  },
  "language_info": {
   "codemirror_mode": {
    "name": "ipython",
    "version": 3
   },
   "file_extension": ".py",
   "mimetype": "text/x-python",
   "name": "python",
   "nbconvert_exporter": "python",
   "pygments_lexer": "ipython3",
   "version": "3.12.3"
  }
 },
 "nbformat": 4,
 "nbformat_minor": 2
}
