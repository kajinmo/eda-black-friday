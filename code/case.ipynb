{
 "cells": [
  {
   "cell_type": "markdown",
   "metadata": {},
   "source": [
    "### Carregando as bibliotecas e configurações"
   ]
  },
  {
   "cell_type": "code",
   "execution_count": 71,
   "metadata": {},
   "outputs": [],
   "source": [
    "import pandas as pd\n",
    "import os\n",
    "import json\n",
    "from pathlib import Path\n",
    "import locale\n",
    "import seaborn as sns\n",
    "import matplotlib.pyplot as plt\n",
    "from pylab import rcParams"
   ]
  },
  {
   "cell_type": "code",
   "execution_count": 72,
   "metadata": {},
   "outputs": [
    {
     "data": {
      "text/plain": [
       "'pt_BR.UTF-8'"
      ]
     },
     "execution_count": 72,
     "metadata": {},
     "output_type": "execute_result"
    }
   ],
   "source": [
    "# Criando o caminho relativo da pasta com os arquivos JSON e capturando o nome dos arquivos\n",
    "data_dir_caminho = Path('..') / 'data'\n",
    "arquivos_json = [arq for arq in os.listdir(data_dir_caminho) if arq.endswith('.json')]\n",
    "\n",
    "# Configurar locale para usar ponto como separador de milhar\n",
    "locale.setlocale(locale.LC_ALL, 'pt_BR.UTF-8')"
   ]
  },
  {
   "cell_type": "code",
   "execution_count": 107,
   "metadata": {},
   "outputs": [],
   "source": [
    "# definindo e padronizando parâmetros para todos os gráficos\n",
    "sns.set()\n",
    "plt.style.use('seaborn-v0_8-notebook')\n",
    "%matplotlib inline\n",
    "rcParams['figure.figsize'] = 6,4\n",
    "rcParams['figure.titlesize'] = 14\n",
    "rcParams['font.size'] = 15"
   ]
  },
  {
   "cell_type": "code",
   "execution_count": 94,
   "metadata": {},
   "outputs": [
    {
     "name": "stdout",
     "output_type": "stream",
     "text": [
      "\u001b[1m\u001b[96mNotebook Color Scheme: \u001b[0m\n"
     ]
    },
    {
     "data": {
      "image/png": "[encoded data removed]",
      "text/plain": [
       "<Figure size 400x100 with 1 Axes>"
      ]
     },
     "metadata": {},
     "output_type": "display_data"
    }
   ],
   "source": [
    "# color scheme\n",
    "class clr:\n",
    "    S = '\\033[1m' + '\\033[96m'\n",
    "    E = '\\033[0m'\n",
    "    \n",
    "my_colors = ['#002768', '#1F6FF0', '#0eafaa', '#B5B0AE']\n",
    "\n",
    "sns.palplot(sns.color_palette(my_colors))\n",
    "\n",
    "print(clr.S + \"Notebook Color Scheme: \" + clr.E)"
   ]
  },
  {
   "cell_type": "markdown",
   "metadata": {},
   "source": [
    "### Carregando os datasets"
   ]
  },
  {
   "cell_type": "code",
   "execution_count": 3,
   "metadata": {},
   "outputs": [
    {
     "name": "stdout",
     "output_type": "stream",
     "text": [
      "DataFrame final: 550068 linhas\n"
     ]
    }
   ],
   "source": [
    "# Carrega e concatena (parâmetro lines=True para evitar o aviso de Warning - lê cada linha como um objeto JSON separado)\n",
    "dfs = []\n",
    "for arquivo in arquivos_json:\n",
    "    caminho = os.path.join(data_dir_caminho, arquivo)\n",
    "    df = pd.read_json(caminho, lines=True)\n",
    "    dfs.append(df)\n",
    "\n",
    "df_final = pd.concat(dfs, ignore_index=True)\n",
    "print(f\"DataFrame final: {len(df_final)} linhas\")"
   ]
  },
  {
   "cell_type": "code",
   "execution_count": 4,
   "metadata": {},
   "outputs": [
    {
     "name": "stdout",
     "output_type": "stream",
     "text": [
      "O dataset tem 550068 observações (compras realizadas) e 7 colunas: ['usuario', 'produto', 'genero', 'idade', 'produto_categoria', 'valor', 'estado_civil']\n"
     ]
    },
    {
     "data": {
      "application/vnd.microsoft.datawrangler.viewer.v0+json": {
       "columns": [
        {
         "name": "index",
         "rawType": "int64",
         "type": "integer"
        },
        {
         "name": "usuario",
         "rawType": "int64",
         "type": "integer"
        },
        {
         "name": "produto",
         "rawType": "object",
         "type": "string"
        },
        {
         "name": "genero",
         "rawType": "object",
         "type": "string"
        },
        {
         "name": "idade",
         "rawType": "object",
         "type": "string"
        },
        {
         "name": "produto_categoria",
         "rawType": "int64",
         "type": "integer"
        },
        {
         "name": "valor",
         "rawType": "int64",
         "type": "integer"
        },
        {
         "name": "estado_civil",
         "rawType": "int64",
         "type": "integer"
        }
       ],
       "conversionMethod": "pd.DataFrame",
       "ref": "22aae21e-c30f-450e-9459-ddc303519936",
       "rows": [
        [
         "0",
         "1000001",
         "P00069042",
         "F",
         "0-17",
         "3",
         "8370",
         "0"
        ],
        [
         "1",
         "1000001",
         "P00248942",
         "F",
         "0-17",
         "1",
         "15200",
         "0"
        ],
        [
         "2",
         "1000001",
         "P00087842",
         "F",
         "0-17",
         "12",
         "1422",
         "0"
        ],
        [
         "3",
         "1000001",
         "P00085442",
         "F",
         "0-17",
         "12",
         "1057",
         "0"
        ],
        [
         "4",
         "1000002",
         "P00285442",
         "M",
         "55+",
         "8",
         "7969",
         "0"
        ],
        [
         "5",
         "1000003",
         "P00193542",
         "M",
         "26-35",
         "1",
         "15227",
         "0"
        ],
        [
         "6",
         "1000004",
         "P00184942",
         "M",
         "46-50",
         "1",
         "19215",
         "1"
        ],
        [
         "7",
         "1000004",
         "P00346142",
         "M",
         "46-50",
         "1",
         "15854",
         "1"
        ],
        [
         "8",
         "1000004",
         "P0097242",
         "M",
         "46-50",
         "1",
         "15686",
         "1"
        ],
        [
         "9",
         "1000005",
         "P00274942",
         "M",
         "26-35",
         "8",
         "7871",
         "1"
        ],
        [
         "10",
         "1000005",
         "P00251242",
         "M",
         "26-35",
         "5",
         "5254",
         "1"
        ],
        [
         "11",
         "1000005",
         "P00014542",
         "M",
         "26-35",
         "8",
         "3957",
         "1"
        ],
        [
         "12",
         "1000005",
         "P00031342",
         "M",
         "26-35",
         "8",
         "6073",
         "1"
        ],
        [
         "13",
         "1000005",
         "P00145042",
         "M",
         "26-35",
         "1",
         "15665",
         "1"
        ],
        [
         "14",
         "1000006",
         "P00231342",
         "F",
         "51-55",
         "5",
         "5378",
         "0"
        ],
        [
         "15",
         "1000006",
         "P00190242",
         "F",
         "51-55",
         "4",
         "2079",
         "0"
        ],
        [
         "16",
         "1000006",
         "P0096642",
         "F",
         "51-55",
         "2",
         "13055",
         "0"
        ],
        [
         "17",
         "1000006",
         "P00058442",
         "F",
         "51-55",
         "5",
         "8851",
         "0"
        ],
        [
         "18",
         "1000007",
         "P00036842",
         "M",
         "36-45",
         "1",
         "11788",
         "1"
        ],
        [
         "19",
         "1000008",
         "P00249542",
         "M",
         "26-35",
         "1",
         "19614",
         "1"
        ],
        [
         "20",
         "1000008",
         "P00220442",
         "M",
         "26-35",
         "5",
         "8584",
         "1"
        ],
        [
         "21",
         "1000008",
         "P00156442",
         "M",
         "26-35",
         "8",
         "9872",
         "1"
        ],
        [
         "22",
         "1000008",
         "P00213742",
         "M",
         "26-35",
         "8",
         "9743",
         "1"
        ],
        [
         "23",
         "1000008",
         "P00214442",
         "M",
         "26-35",
         "8",
         "5982",
         "1"
        ],
        [
         "24",
         "1000008",
         "P00303442",
         "M",
         "26-35",
         "1",
         "11927",
         "1"
        ],
        [
         "25",
         "1000009",
         "P00135742",
         "M",
         "26-35",
         "6",
         "16662",
         "0"
        ],
        [
         "26",
         "1000009",
         "P00039942",
         "M",
         "26-35",
         "8",
         "5887",
         "0"
        ],
        [
         "27",
         "1000009",
         "P00161442",
         "M",
         "26-35",
         "5",
         "6973",
         "0"
        ],
        [
         "28",
         "1000009",
         "P00078742",
         "M",
         "26-35",
         "5",
         "5391",
         "0"
        ],
        [
         "29",
         "1000010",
         "P00085942",
         "F",
         "36-45",
         "2",
         "16352",
         "1"
        ],
        [
         "30",
         "1000010",
         "P00118742",
         "F",
         "36-45",
         "5",
         "8886",
         "1"
        ],
        [
         "31",
         "1000010",
         "P00297942",
         "F",
         "36-45",
         "8",
         "5875",
         "1"
        ],
        [
         "32",
         "1000010",
         "P00266842",
         "F",
         "36-45",
         "5",
         "8854",
         "1"
        ],
        [
         "33",
         "1000010",
         "P00058342",
         "F",
         "36-45",
         "3",
         "10946",
         "1"
        ],
        [
         "34",
         "1000010",
         "P00032442",
         "F",
         "36-45",
         "5",
         "5152",
         "1"
        ],
        [
         "35",
         "1000010",
         "P00105942",
         "F",
         "36-45",
         "5",
         "7089",
         "1"
        ],
        [
         "36",
         "1000010",
         "P00182642",
         "F",
         "36-45",
         "2",
         "12909",
         "1"
        ],
        [
         "37",
         "1000010",
         "P00186942",
         "F",
         "36-45",
         "5",
         "8770",
         "1"
        ],
        [
         "38",
         "1000010",
         "P00155442",
         "F",
         "36-45",
         "1",
         "15212",
         "1"
        ],
        [
         "39",
         "1000010",
         "P00221342",
         "F",
         "36-45",
         "1",
         "15705",
         "1"
        ],
        [
         "40",
         "1000010",
         "P00087242",
         "F",
         "36-45",
         "14",
         "7947",
         "1"
        ],
        [
         "41",
         "1000010",
         "P00111142",
         "F",
         "36-45",
         "1",
         "18963",
         "1"
        ],
        [
         "42",
         "1000010",
         "P00259342",
         "F",
         "36-45",
         "5",
         "8718",
         "1"
        ],
        [
         "43",
         "1000010",
         "P0094542",
         "F",
         "36-45",
         "2",
         "16406",
         "1"
        ],
        [
         "44",
         "1000010",
         "P00148642",
         "F",
         "36-45",
         "6",
         "12642",
         "1"
        ],
        [
         "45",
         "1000010",
         "P00312142",
         "F",
         "36-45",
         "8",
         "10007",
         "1"
        ],
        [
         "46",
         "1000010",
         "P00113242",
         "F",
         "36-45",
         "1",
         "11562",
         "1"
        ],
        [
         "47",
         "1000011",
         "P00192642",
         "F",
         "26-35",
         "8",
         "6171",
         "0"
        ],
        [
         "48",
         "1000011",
         "P00110842",
         "F",
         "26-35",
         "1",
         "19327",
         "0"
        ],
        [
         "49",
         "1000011",
         "P00189642",
         "F",
         "26-35",
         "8",
         "8027",
         "0"
        ]
       ],
       "shape": {
        "columns": 7,
        "rows": 550068
       }
      },
      "text/html": [
       "<div>\n",
       "<style scoped>\n",
       "    .dataframe tbody tr th:only-of-type {\n",
       "        vertical-align: middle;\n",
       "    }\n",
       "\n",
       "    .dataframe tbody tr th {\n",
       "        vertical-align: top;\n",
       "    }\n",
       "\n",
       "    .dataframe thead th {\n",
       "        text-align: right;\n",
       "    }\n",
       "</style>\n",
       "<table border=\"1\" class=\"dataframe\">\n",
       "  <thead>\n",
       "    <tr style=\"text-align: right;\">\n",
       "      <th></th>\n",
       "      <th>usuario</th>\n",
       "      <th>produto</th>\n",
       "      <th>genero</th>\n",
       "      <th>idade</th>\n",
       "      <th>produto_categoria</th>\n",
       "      <th>valor</th>\n",
       "      <th>estado_civil</th>\n",
       "    </tr>\n",
       "  </thead>\n",
       "  <tbody>\n",
       "    <tr>\n",
       "      <th>0</th>\n",
       "      <td>1000001</td>\n",
       "      <td>P00069042</td>\n",
       "      <td>F</td>\n",
       "      <td>0-17</td>\n",
       "      <td>3</td>\n",
       "      <td>8370</td>\n",
       "      <td>0</td>\n",
       "    </tr>\n",
       "    <tr>\n",
       "      <th>1</th>\n",
       "      <td>1000001</td>\n",
       "      <td>P00248942</td>\n",
       "      <td>F</td>\n",
       "      <td>0-17</td>\n",
       "      <td>1</td>\n",
       "      <td>15200</td>\n",
       "      <td>0</td>\n",
       "    </tr>\n",
       "    <tr>\n",
       "      <th>2</th>\n",
       "      <td>1000001</td>\n",
       "      <td>P00087842</td>\n",
       "      <td>F</td>\n",
       "      <td>0-17</td>\n",
       "      <td>12</td>\n",
       "      <td>1422</td>\n",
       "      <td>0</td>\n",
       "    </tr>\n",
       "    <tr>\n",
       "      <th>3</th>\n",
       "      <td>1000001</td>\n",
       "      <td>P00085442</td>\n",
       "      <td>F</td>\n",
       "      <td>0-17</td>\n",
       "      <td>12</td>\n",
       "      <td>1057</td>\n",
       "      <td>0</td>\n",
       "    </tr>\n",
       "    <tr>\n",
       "      <th>4</th>\n",
       "      <td>1000002</td>\n",
       "      <td>P00285442</td>\n",
       "      <td>M</td>\n",
       "      <td>55+</td>\n",
       "      <td>8</td>\n",
       "      <td>7969</td>\n",
       "      <td>0</td>\n",
       "    </tr>\n",
       "    <tr>\n",
       "      <th>...</th>\n",
       "      <td>...</td>\n",
       "      <td>...</td>\n",
       "      <td>...</td>\n",
       "      <td>...</td>\n",
       "      <td>...</td>\n",
       "      <td>...</td>\n",
       "      <td>...</td>\n",
       "    </tr>\n",
       "    <tr>\n",
       "      <th>550063</th>\n",
       "      <td>1006033</td>\n",
       "      <td>P00372445</td>\n",
       "      <td>M</td>\n",
       "      <td>51-55</td>\n",
       "      <td>20</td>\n",
       "      <td>368</td>\n",
       "      <td>1</td>\n",
       "    </tr>\n",
       "    <tr>\n",
       "      <th>550064</th>\n",
       "      <td>1006035</td>\n",
       "      <td>P00375436</td>\n",
       "      <td>F</td>\n",
       "      <td>26-35</td>\n",
       "      <td>20</td>\n",
       "      <td>371</td>\n",
       "      <td>0</td>\n",
       "    </tr>\n",
       "    <tr>\n",
       "      <th>550065</th>\n",
       "      <td>1006036</td>\n",
       "      <td>P00375436</td>\n",
       "      <td>F</td>\n",
       "      <td>26-35</td>\n",
       "      <td>20</td>\n",
       "      <td>137</td>\n",
       "      <td>1</td>\n",
       "    </tr>\n",
       "    <tr>\n",
       "      <th>550066</th>\n",
       "      <td>1006038</td>\n",
       "      <td>P00375436</td>\n",
       "      <td>F</td>\n",
       "      <td>55+</td>\n",
       "      <td>20</td>\n",
       "      <td>365</td>\n",
       "      <td>0</td>\n",
       "    </tr>\n",
       "    <tr>\n",
       "      <th>550067</th>\n",
       "      <td>1006039</td>\n",
       "      <td>P00371644</td>\n",
       "      <td>F</td>\n",
       "      <td>46-50</td>\n",
       "      <td>20</td>\n",
       "      <td>490</td>\n",
       "      <td>1</td>\n",
       "    </tr>\n",
       "  </tbody>\n",
       "</table>\n",
       "<p>550068 rows × 7 columns</p>\n",
       "</div>"
      ],
      "text/plain": [
       "        usuario    produto genero  idade  produto_categoria  valor  \\\n",
       "0       1000001  P00069042      F   0-17                  3   8370   \n",
       "1       1000001  P00248942      F   0-17                  1  15200   \n",
       "2       1000001  P00087842      F   0-17                 12   1422   \n",
       "3       1000001  P00085442      F   0-17                 12   1057   \n",
       "4       1000002  P00285442      M    55+                  8   7969   \n",
       "...         ...        ...    ...    ...                ...    ...   \n",
       "550063  1006033  P00372445      M  51-55                 20    368   \n",
       "550064  1006035  P00375436      F  26-35                 20    371   \n",
       "550065  1006036  P00375436      F  26-35                 20    137   \n",
       "550066  1006038  P00375436      F    55+                 20    365   \n",
       "550067  1006039  P00371644      F  46-50                 20    490   \n",
       "\n",
       "        estado_civil  \n",
       "0                  0  \n",
       "1                  0  \n",
       "2                  0  \n",
       "3                  0  \n",
       "4                  0  \n",
       "...              ...  \n",
       "550063             1  \n",
       "550064             0  \n",
       "550065             1  \n",
       "550066             0  \n",
       "550067             1  \n",
       "\n",
       "[550068 rows x 7 columns]"
      ]
     },
     "execution_count": 4,
     "metadata": {},
     "output_type": "execute_result"
    }
   ],
   "source": [
    "print(\"O dataset tem \" + str(df_final.shape[0]) + \" observações (compras realizadas) e \" + str(df_final.shape[1]) + \" colunas: \" + str([col for col in df_final.columns]))\n",
    "df_final"
   ]
  },
  {
   "cell_type": "code",
   "execution_count": 5,
   "metadata": {},
   "outputs": [],
   "source": [
    "# trocando o nome da variável para melhorar a legibilidade do código\n",
    "df = df_final.copy()"
   ]
  },
  {
   "cell_type": "markdown",
   "metadata": {},
   "source": [
    "### Análise exploratória dos dados"
   ]
  },
  {
   "cell_type": "code",
   "execution_count": 7,
   "metadata": {},
   "outputs": [
    {
     "data": {
      "application/vnd.microsoft.datawrangler.viewer.v0+json": {
       "columns": [
        {
         "name": "index",
         "rawType": "int64",
         "type": "integer"
        },
        {
         "name": "produto",
         "rawType": "object",
         "type": "string"
        },
        {
         "name": "count",
         "rawType": "int64",
         "type": "integer"
        }
       ],
       "conversionMethod": "pd.DataFrame",
       "ref": "a9f2cd03-bb23-4e3e-915a-33d7687ee613",
       "rows": [
        [
         "0",
         "P00265242",
         "1880"
        ],
        [
         "1",
         "P00025442",
         "1615"
        ],
        [
         "2",
         "P00110742",
         "1612"
        ],
        [
         "3",
         "P00112142",
         "1562"
        ],
        [
         "4",
         "P00057642",
         "1470"
        ],
        [
         "5",
         "P00184942",
         "1440"
        ],
        [
         "6",
         "P00046742",
         "1438"
        ],
        [
         "7",
         "P00058042",
         "1422"
        ],
        [
         "9",
         "P00145042",
         "1406"
        ],
        [
         "8",
         "P00059442",
         "1406"
        ],
        [
         "10",
         "P00237542",
         "1394"
        ],
        [
         "11",
         "P00255842",
         "1383"
        ],
        [
         "12",
         "P00117942",
         "1364"
        ],
        [
         "13",
         "P00110942",
         "1360"
        ],
        [
         "14",
         "P00010742",
         "1350"
        ],
        [
         "15",
         "P00220442",
         "1282"
        ],
        [
         "16",
         "P00110842",
         "1281"
        ],
        [
         "17",
         "P00117442",
         "1260"
        ],
        [
         "18",
         "P00051442",
         "1249"
        ],
        [
         "19",
         "P00102642",
         "1246"
        ],
        [
         "20",
         "P00278642",
         "1226"
        ],
        [
         "21",
         "P00242742",
         "1215"
        ],
        [
         "22",
         "P00034742",
         "1212"
        ],
        [
         "23",
         "P00148642",
         "1204"
        ],
        [
         "24",
         "P00080342",
         "1203"
        ],
        [
         "25",
         "P00031042",
         "1200"
        ],
        [
         "26",
         "P00028842",
         "1197"
        ],
        [
         "27",
         "P00251242",
         "1187"
        ],
        [
         "28",
         "P00114942",
         "1178"
        ],
        [
         "30",
         "P00000142",
         "1152"
        ],
        [
         "29",
         "P00270942",
         "1152"
        ],
        [
         "31",
         "P00112542",
         "1131"
        ],
        [
         "32",
         "P00044442",
         "1111"
        ],
        [
         "33",
         "P00334242",
         "1093"
        ],
        [
         "34",
         "P00111142",
         "1015"
        ],
        [
         "35",
         "P00277642",
         "989"
        ],
        [
         "36",
         "P00052842",
         "982"
        ],
        [
         "37",
         "P00116842",
         "979"
        ],
        [
         "38",
         "P00295942",
         "972"
        ],
        [
         "39",
         "P00005042",
         "969"
        ],
        [
         "40",
         "P00003442",
         "968"
        ],
        [
         "41",
         "P00086442",
         "966"
        ],
        [
         "42",
         "P00258742",
         "964"
        ],
        [
         "43",
         "P00085942",
         "963"
        ],
        [
         "44",
         "P00110542",
         "958"
        ],
        [
         "45",
         "P00216342",
         "943"
        ],
        [
         "46",
         "P00073842",
         "936"
        ],
        [
         "47",
         "P00128942",
         "936"
        ],
        [
         "48",
         "P00113242",
         "933"
        ],
        [
         "49",
         "P00112442",
         "923"
        ]
       ],
       "shape": {
        "columns": 2,
        "rows": 3631
       }
      },
      "text/html": [
       "<div>\n",
       "<style scoped>\n",
       "    .dataframe tbody tr th:only-of-type {\n",
       "        vertical-align: middle;\n",
       "    }\n",
       "\n",
       "    .dataframe tbody tr th {\n",
       "        vertical-align: top;\n",
       "    }\n",
       "\n",
       "    .dataframe thead th {\n",
       "        text-align: right;\n",
       "    }\n",
       "</style>\n",
       "<table border=\"1\" class=\"dataframe\">\n",
       "  <thead>\n",
       "    <tr style=\"text-align: right;\">\n",
       "      <th></th>\n",
       "      <th>produto</th>\n",
       "      <th>count</th>\n",
       "    </tr>\n",
       "  </thead>\n",
       "  <tbody>\n",
       "    <tr>\n",
       "      <th>0</th>\n",
       "      <td>P00265242</td>\n",
       "      <td>1880</td>\n",
       "    </tr>\n",
       "    <tr>\n",
       "      <th>1</th>\n",
       "      <td>P00025442</td>\n",
       "      <td>1615</td>\n",
       "    </tr>\n",
       "    <tr>\n",
       "      <th>2</th>\n",
       "      <td>P00110742</td>\n",
       "      <td>1612</td>\n",
       "    </tr>\n",
       "    <tr>\n",
       "      <th>3</th>\n",
       "      <td>P00112142</td>\n",
       "      <td>1562</td>\n",
       "    </tr>\n",
       "    <tr>\n",
       "      <th>4</th>\n",
       "      <td>P00057642</td>\n",
       "      <td>1470</td>\n",
       "    </tr>\n",
       "    <tr>\n",
       "      <th>...</th>\n",
       "      <td>...</td>\n",
       "      <td>...</td>\n",
       "    </tr>\n",
       "    <tr>\n",
       "      <th>3626</th>\n",
       "      <td>P00325342</td>\n",
       "      <td>1</td>\n",
       "    </tr>\n",
       "    <tr>\n",
       "      <th>3627</th>\n",
       "      <td>P00312542</td>\n",
       "      <td>1</td>\n",
       "    </tr>\n",
       "    <tr>\n",
       "      <th>3628</th>\n",
       "      <td>P00008942</td>\n",
       "      <td>1</td>\n",
       "    </tr>\n",
       "    <tr>\n",
       "      <th>3629</th>\n",
       "      <td>P00315142</td>\n",
       "      <td>1</td>\n",
       "    </tr>\n",
       "    <tr>\n",
       "      <th>3630</th>\n",
       "      <td>P00365942</td>\n",
       "      <td>1</td>\n",
       "    </tr>\n",
       "  </tbody>\n",
       "</table>\n",
       "<p>3631 rows × 2 columns</p>\n",
       "</div>"
      ],
      "text/plain": [
       "        produto  count\n",
       "0     P00265242   1880\n",
       "1     P00025442   1615\n",
       "2     P00110742   1612\n",
       "3     P00112142   1562\n",
       "4     P00057642   1470\n",
       "...         ...    ...\n",
       "3626  P00325342      1\n",
       "3627  P00312542      1\n",
       "3628  P00008942      1\n",
       "3629  P00315142      1\n",
       "3630  P00365942      1\n",
       "\n",
       "[3631 rows x 2 columns]"
      ]
     },
     "execution_count": 7,
     "metadata": {},
     "output_type": "execute_result"
    }
   ],
   "source": [
    "# vê-se que o produto mais vendido é P00265242, que vendeu 1880 unidades\n",
    "flavors = df['produto'].value_counts().reset_index().sort_values('count', ascending=False)\n",
    "flavors"
   ]
  },
  {
   "cell_type": "code",
   "execution_count": 108,
   "metadata": {},
   "outputs": [
    {
     "data": {
      "image/png": "[encoded data removed]",
      "text/plain": [
       "<Figure size 600x400 with 1 Axes>"
      ]
     },
     "metadata": {},
     "output_type": "display_data"
    }
   ],
   "source": [
    "# Distribuição dos valores\n",
    "sns.histplot(data=df, x='valor', bins=20, color='#002768')\n",
    "plt.title('Distribuição dos Valores de Compra')\n",
    "plt.xlabel('Valor da Compra')\n",
    "plt.ylabel('Frequência')\n",
    "plt.show()"
   ]
  },
  {
   "cell_type": "markdown",
   "metadata": {},
   "source": [
    "Análise por dos valores de compra:\n",
    "- Assimetria à direita (com a maioria das compras concentrada nos valores mais baixos) e algumas poucas compras com valores significativamente mais altos.\n",
    "- Esta distribuição condiz com uma típica de dados de varejo, onde a maioria das transações envolve valores modestos, com algumas poucas transações de alto valor.\n",
    "-  Há uma concentração significativa de compras nos primeiros intervalos de valor (provavelmente entre 1.000-5.000), que depois decai rapidamente conforme o valor aumenta.\n",
    "- Valores atípicos: A cauda longa à direita sugere a presença de alguns valores atípicos (outliers)"
   ]
  },
  {
   "cell_type": "code",
   "execution_count": 109,
   "metadata": {},
   "outputs": [
    {
     "data": {
      "image/png": "[encoded data removed]",
      "text/plain": [
       "<Figure size 600x400 with 1 Axes>"
      ]
     },
     "metadata": {},
     "output_type": "display_data"
    }
   ],
   "source": [
    "import matplotlib.pyplot as plt\n",
    "\n",
    "# Contar compras por gênero\n",
    "contagem_genero = df['genero'].value_counts()\n",
    "\n",
    "# Criar o gráfico de pizza\n",
    "plt.pie(contagem_genero, \n",
    "        labels=contagem_genero.index, \n",
    "        autopct='%1.1f%%', \n",
    "        startangle=90,\n",
    "        colors=['#1F6FF0', '#0eafaa'],\n",
    "        explode=(0.05, 0),  # Separar ligeiramente as fatias\n",
    "        shadow=True)\n",
    "plt.title('Distribuição de Compras por Gênero', y=1.05, fontsize=14)\n",
    "plt.axis('equal')\n",
    "plt.legend(\n",
    "    labels=[f\"{g} ({locale.format_string('%d', q, grouping=True)} compras)\" \n",
    "            for g, q in zip(contagem_genero.index, contagem_genero)],\n",
    "    loc='upper right'\n",
    ")\n",
    "\n",
    "plt.tight_layout()\n",
    "plt.show()"
   ]
  },
  {
   "cell_type": "code",
   "execution_count": null,
   "metadata": {},
   "outputs": [
    {
     "data": {
      "image/png": "[encoded data removed]",
      "text/plain": [
       "<Figure size 600x400 with 1 Axes>"
      ]
     },
     "metadata": {},
     "output_type": "display_data"
    }
   ],
   "source": [
    "# Boxplot por gênero\n",
    "sns.boxplot(data=df, x='genero', y='valor', color='#0eafaa')\n",
    "plt.title('Distribuição de Valores por Gênero - Boxplot')\n",
    "plt.xlabel('Gênero')\n",
    "plt.ylabel('Valor da Compra')\n",
    "plt.show()"
   ]
  },
  {
   "cell_type": "code",
   "execution_count": 18,
   "metadata": {},
   "outputs": [
    {
     "name": "stdout",
     "output_type": "stream",
     "text": [
      "           count         mean          std   min     25%     50%      75%  \\\n",
      "genero                                                                      \n",
      "F       135809.0  8734.565765  4767.233289  12.0  5433.0  7914.0  11400.0   \n",
      "M       414259.0  9437.526040  5092.186210  12.0  5863.0  8098.0  12454.0   \n",
      "\n",
      "            max  \n",
      "genero           \n",
      "F       23959.0  \n",
      "M       23961.0  \n"
     ]
    }
   ],
   "source": [
    "print(df.groupby('genero')['valor'].describe())"
   ]
  },
  {
   "cell_type": "markdown",
   "metadata": {},
   "source": [
    "Análise por gênero\n",
    "- mulheres tendem a fazer compras de valor mais modesto\n",
    "- homens representam 75% das compras e tem maior variabilidade nos valores das compras e mediana mais elevada"
   ]
  },
  {
   "cell_type": "code",
   "execution_count": null,
   "metadata": {},
   "outputs": [
    {
     "data": {
      "image/png": "[encoded data removed]",
      "text/plain": [
       "<Figure size 600x400 with 1 Axes>"
      ]
     },
     "metadata": {},
     "output_type": "display_data"
    }
   ],
   "source": [
    "# Frequência de Compras por Categoria de Produto\n",
    "sns.countplot(data=df, x='produto_categoria', order=df['produto_categoria'].value_counts().index, color='#0eafaa')\n",
    "plt.title('Frequência de Compras por Categoria de Produto')\n",
    "plt.xlabel('Categoria do Produto')\n",
    "plt.ylabel('Quantidade de Compras')\n",
    "plt.xticks(rotation=45)\n",
    "plt.show()"
   ]
  },
  {
   "cell_type": "code",
   "execution_count": 113,
   "metadata": {},
   "outputs": [
    {
     "data": {
      "image/png": "[encoded data removed]",
      "text/plain": [
       "<Figure size 600x400 with 1 Axes>"
      ]
     },
     "metadata": {},
     "output_type": "display_data"
    }
   ],
   "source": [
    "#Valor Médio por Categoria de Produto\n",
    "sns.barplot(data=df, \n",
    "           x='produto_categoria', \n",
    "           y='valor',\n",
    "           estimator='mean',\n",
    "           order=df.groupby('produto_categoria')['valor'].mean().sort_values(ascending=False).index,\n",
    "           color='#04F7F7',\n",
    "           saturation=0.4)\n",
    "\n",
    "plt.title('Valor Médio por Categoria de Produto', pad=20, fontweight='bold')\n",
    "plt.xlabel('Categoria do Produto', labelpad=10)\n",
    "plt.ylabel('Valor Médio (R$)', labelpad=10)\n",
    "plt.xticks(rotation=45)\n",
    "plt.grid(axis='y', linestyle='--', alpha=0.4)\n",
    "plt.tight_layout()\n",
    "plt.show()"
   ]
  },
  {
   "cell_type": "markdown",
   "metadata": {},
   "source": [
    "Compras por Categoria de Produto\n",
    "- As categorias 5, 1 e 8 se destacam na quantidade. Talvez separar processos mais ágeis de movimentação de estoque e entrega.\n",
    "- A categoria 10 entrega um alto valor médio, embora seja um dos últimos em quantidade. Aqui pode existir uma oportunidade a ser estudada."
   ]
  },
  {
   "cell_type": "code",
   "execution_count": 114,
   "metadata": {},
   "outputs": [
    {
     "data": {
      "image/png": "[encoded data removed]",
      "text/plain": [
       "<Figure size 600x400 with 1 Axes>"
      ]
     },
     "metadata": {},
     "output_type": "display_data"
    }
   ],
   "source": [
    "# Definir a ordem correta das faixas etárias e converter a coluna 'idade' para categoria ordenada\n",
    "ordem_idades = ['0-17', '18-25', '26-35', '36-45', '46-50', '51-55', '55+']\n",
    "df['idade'] = pd.Categorical(df['idade'], categories=ordem_idades, ordered=True)\n",
    "\n",
    "sns.histplot(data=df, x='idade', shrink=0.8, color='#002768')\n",
    "plt.title('Distribuição por Faixa Etária')\n",
    "plt.xlabel('Faixa Etária')\n",
    "plt.ylabel('Contagem')\n",
    "plt.xticks(rotation=45)\n",
    "plt.tight_layout()\n",
    "plt.show()"
   ]
  },
  {
   "cell_type": "markdown",
   "metadata": {},
   "source": [
    "### Perguntas do time de negócio"
   ]
  },
  {
   "cell_type": "markdown",
   "metadata": {},
   "source": [
    "1 - Qual o ticket médio das vendas por idade ordenado por idade?"
   ]
  },
  {
   "cell_type": "code",
   "execution_count": null,
   "metadata": {},
   "outputs": [
    {
     "data": {
      "application/vnd.microsoft.datawrangler.viewer.v0+json": {
       "columns": [
        {
         "name": "index",
         "rawType": "int64",
         "type": "integer"
        },
        {
         "name": "idade",
         "rawType": "category",
         "type": "unknown"
        },
        {
         "name": "ticket_medio",
         "rawType": "float64",
         "type": "float"
        }
       ],
       "conversionMethod": "pd.DataFrame",
       "ref": "f6a38199-e16d-4b92-8115-30e8ff75a69b",
       "rows": [
        [
         "0",
         "0-17",
         "8933.464640444974"
        ],
        [
         "1",
         "18-25",
         "9169.663606261289"
        ],
        [
         "2",
         "26-35",
         "9252.690632869888"
        ],
        [
         "3",
         "36-45",
         "9331.350694917874"
        ],
        [
         "4",
         "46-50",
         "9208.625697468327"
        ],
        [
         "5",
         "51-55",
         "9534.808030960236"
        ],
        [
         "6",
         "55+",
         "9336.280459449405"
        ]
       ],
       "shape": {
        "columns": 2,
        "rows": 7
       }
      },
      "text/html": [
       "<div>\n",
       "<style scoped>\n",
       "    .dataframe tbody tr th:only-of-type {\n",
       "        vertical-align: middle;\n",
       "    }\n",
       "\n",
       "    .dataframe tbody tr th {\n",
       "        vertical-align: top;\n",
       "    }\n",
       "\n",
       "    .dataframe thead th {\n",
       "        text-align: right;\n",
       "    }\n",
       "</style>\n",
       "<table border=\"1\" class=\"dataframe\">\n",
       "  <thead>\n",
       "    <tr style=\"text-align: right;\">\n",
       "      <th></th>\n",
       "      <th>idade</th>\n",
       "      <th>ticket_medio</th>\n",
       "    </tr>\n",
       "  </thead>\n",
       "  <tbody>\n",
       "    <tr>\n",
       "      <th>0</th>\n",
       "      <td>0-17</td>\n",
       "      <td>8933.464640</td>\n",
       "    </tr>\n",
       "    <tr>\n",
       "      <th>1</th>\n",
       "      <td>18-25</td>\n",
       "      <td>9169.663606</td>\n",
       "    </tr>\n",
       "    <tr>\n",
       "      <th>2</th>\n",
       "      <td>26-35</td>\n",
       "      <td>9252.690633</td>\n",
       "    </tr>\n",
       "    <tr>\n",
       "      <th>3</th>\n",
       "      <td>36-45</td>\n",
       "      <td>9331.350695</td>\n",
       "    </tr>\n",
       "    <tr>\n",
       "      <th>4</th>\n",
       "      <td>46-50</td>\n",
       "      <td>9208.625697</td>\n",
       "    </tr>\n",
       "    <tr>\n",
       "      <th>5</th>\n",
       "      <td>51-55</td>\n",
       "      <td>9534.808031</td>\n",
       "    </tr>\n",
       "    <tr>\n",
       "      <th>6</th>\n",
       "      <td>55+</td>\n",
       "      <td>9336.280459</td>\n",
       "    </tr>\n",
       "  </tbody>\n",
       "</table>\n",
       "</div>"
      ],
      "text/plain": [
       "   idade  ticket_medio\n",
       "0   0-17   8933.464640\n",
       "1  18-25   9169.663606\n",
       "2  26-35   9252.690633\n",
       "3  36-45   9331.350695\n",
       "4  46-50   9208.625697\n",
       "5  51-55   9534.808031\n",
       "6    55+   9336.280459"
      ]
     },
     "execution_count": 106,
     "metadata": {},
     "output_type": "execute_result"
    }
   ],
   "source": [
    "ticket_medio = (\n",
    "    df.query('idade.notna()', engine='python')\n",
    "    .groupby('idade', observed=True)['valor']\n",
    "    .mean()\n",
    "    .reset_index()\n",
    "    .rename(columns={'valor': 'ticket_medio'})\n",
    ")\n",
    "\n",
    "ticket_medio"
   ]
  },
  {
   "cell_type": "markdown",
   "metadata": {},
   "source": [
    "\n",
    "2 - Qual o total de vendas por idade ordenado pelo valor total de vendas?"
   ]
  },
  {
   "cell_type": "code",
   "execution_count": null,
   "metadata": {},
   "outputs": [],
   "source": []
  },
  {
   "cell_type": "markdown",
   "metadata": {},
   "source": [
    "3 - Liste a quantidade dos 10 produtos mais vendidos "
   ]
  },
  {
   "cell_type": "code",
   "execution_count": null,
   "metadata": {},
   "outputs": [],
   "source": []
  },
  {
   "cell_type": "markdown",
   "metadata": {},
   "source": [
    " 4 - Quantos usuários únicos existem na base?"
   ]
  },
  {
   "cell_type": "code",
   "execution_count": null,
   "metadata": {},
   "outputs": [],
   "source": []
  },
  {
   "cell_type": "markdown",
   "metadata": {},
   "source": [
    "5 - Liste os 10 usuários com o maior valor total de vendas"
   ]
  },
  {
   "cell_type": "code",
   "execution_count": null,
   "metadata": {},
   "outputs": [],
   "source": []
  },
  {
   "cell_type": "markdown",
   "metadata": {},
   "source": [
    "6 - Qual porcentagem representa cada faixa etária da base de usuários únicos?"
   ]
  },
  {
   "cell_type": "code",
   "execution_count": null,
   "metadata": {},
   "outputs": [],
   "source": []
  }
 ],
 "metadata": {
  "kernelspec": {
   "display_name": ".venv",
   "language": "python",
   "name": "python3"
  },
  "language_info": {
   "codemirror_mode": {
    "name": "ipython",
    "version": 3
   },
   "file_extension": ".py",
   "mimetype": "text/x-python",
   "name": "python",
   "nbconvert_exporter": "python",
   "pygments_lexer": "ipython3",
   "version": "3.12.3"
  }
 },
 "nbformat": 4,
 "nbformat_minor": 2
}
